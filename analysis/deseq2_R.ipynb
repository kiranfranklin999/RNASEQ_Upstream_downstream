{
 "cells": [
  {
   "cell_type": "code",
   "execution_count": 19,
   "metadata": {
    "vscode": {
     "languageId": "r"
    }
   },
   "outputs": [
    {
     "name": "stderr",
     "output_type": "stream",
     "text": [
      "Warning message:\n",
      "\"package 'pheatmap' was built under R version 4.3.1\"\n"
     ]
    }
   ],
   "source": [
    "# Load library for DESeq2 - differential expression analysis\n",
    "library(DESeq2)\n",
    "\n",
    "# Load library for RColorBrewer\n",
    "library(RColorBrewer)\n",
    "\n",
    "\n",
    "\n",
    "# Load library for tidyverse\n",
    "library(tidyverse)\n",
    "# Load library for pheatmap\n",
    "library(pheatmap)"
   ]
  },
  {
   "cell_type": "code",
   "execution_count": 2,
   "metadata": {
    "vscode": {
     "languageId": "r"
    }
   },
   "outputs": [
    {
     "data": {
      "text/html": [
       "<table class=\"dataframe\">\n",
       "<caption>A data.frame: 6 × 8</caption>\n",
       "<thead>\n",
       "\t<tr><th></th><th scope=col>X</th><th scope=col>smoc2_fibrosis1</th><th scope=col>smoc2_fibrosis4</th><th scope=col>smoc2_normal1</th><th scope=col>smoc2_normal3</th><th scope=col>smoc2_fibrosis3</th><th scope=col>smoc2_normal4</th><th scope=col>smoc2_fibrosis2</th></tr>\n",
       "\t<tr><th></th><th scope=col>&lt;chr&gt;</th><th scope=col>&lt;int&gt;</th><th scope=col>&lt;int&gt;</th><th scope=col>&lt;int&gt;</th><th scope=col>&lt;int&gt;</th><th scope=col>&lt;int&gt;</th><th scope=col>&lt;int&gt;</th><th scope=col>&lt;int&gt;</th></tr>\n",
       "</thead>\n",
       "<tbody>\n",
       "\t<tr><th scope=row>1</th><td>ENSMUSG00000102693</td><td> 0</td><td> 0</td><td>0</td><td>0</td><td> 0</td><td>0</td><td> 0</td></tr>\n",
       "\t<tr><th scope=row>2</th><td>ENSMUSG00000064842</td><td> 0</td><td> 0</td><td>0</td><td>0</td><td> 0</td><td>0</td><td> 0</td></tr>\n",
       "\t<tr><th scope=row>3</th><td>ENSMUSG00000051951</td><td>72</td><td>30</td><td>0</td><td>3</td><td>36</td><td>1</td><td>51</td></tr>\n",
       "\t<tr><th scope=row>4</th><td>ENSMUSG00000102851</td><td> 0</td><td> 0</td><td>0</td><td>0</td><td> 0</td><td>0</td><td> 0</td></tr>\n",
       "\t<tr><th scope=row>5</th><td>ENSMUSG00000103377</td><td> 0</td><td> 0</td><td>1</td><td>0</td><td> 0</td><td>0</td><td> 0</td></tr>\n",
       "\t<tr><th scope=row>6</th><td>ENSMUSG00000104017</td><td> 0</td><td> 0</td><td>0</td><td>0</td><td> 0</td><td>0</td><td> 0</td></tr>\n",
       "</tbody>\n",
       "</table>\n"
      ],
      "text/latex": [
       "A data.frame: 6 × 8\n",
       "\\begin{tabular}{r|llllllll}\n",
       "  & X & smoc2\\_fibrosis1 & smoc2\\_fibrosis4 & smoc2\\_normal1 & smoc2\\_normal3 & smoc2\\_fibrosis3 & smoc2\\_normal4 & smoc2\\_fibrosis2\\\\\n",
       "  & <chr> & <int> & <int> & <int> & <int> & <int> & <int> & <int>\\\\\n",
       "\\hline\n",
       "\t1 & ENSMUSG00000102693 &  0 &  0 & 0 & 0 &  0 & 0 &  0\\\\\n",
       "\t2 & ENSMUSG00000064842 &  0 &  0 & 0 & 0 &  0 & 0 &  0\\\\\n",
       "\t3 & ENSMUSG00000051951 & 72 & 30 & 0 & 3 & 36 & 1 & 51\\\\\n",
       "\t4 & ENSMUSG00000102851 &  0 &  0 & 0 & 0 &  0 & 0 &  0\\\\\n",
       "\t5 & ENSMUSG00000103377 &  0 &  0 & 1 & 0 &  0 & 0 &  0\\\\\n",
       "\t6 & ENSMUSG00000104017 &  0 &  0 & 0 & 0 &  0 & 0 &  0\\\\\n",
       "\\end{tabular}\n"
      ],
      "text/markdown": [
       "\n",
       "A data.frame: 6 × 8\n",
       "\n",
       "| <!--/--> | X &lt;chr&gt; | smoc2_fibrosis1 &lt;int&gt; | smoc2_fibrosis4 &lt;int&gt; | smoc2_normal1 &lt;int&gt; | smoc2_normal3 &lt;int&gt; | smoc2_fibrosis3 &lt;int&gt; | smoc2_normal4 &lt;int&gt; | smoc2_fibrosis2 &lt;int&gt; |\n",
       "|---|---|---|---|---|---|---|---|---|\n",
       "| 1 | ENSMUSG00000102693 |  0 |  0 | 0 | 0 |  0 | 0 |  0 |\n",
       "| 2 | ENSMUSG00000064842 |  0 |  0 | 0 | 0 |  0 | 0 |  0 |\n",
       "| 3 | ENSMUSG00000051951 | 72 | 30 | 0 | 3 | 36 | 1 | 51 |\n",
       "| 4 | ENSMUSG00000102851 |  0 |  0 | 0 | 0 |  0 | 0 |  0 |\n",
       "| 5 | ENSMUSG00000103377 |  0 |  0 | 1 | 0 |  0 | 0 |  0 |\n",
       "| 6 | ENSMUSG00000104017 |  0 |  0 | 0 | 0 |  0 | 0 |  0 |\n",
       "\n"
      ],
      "text/plain": [
       "  X                  smoc2_fibrosis1 smoc2_fibrosis4 smoc2_normal1\n",
       "1 ENSMUSG00000102693  0               0              0            \n",
       "2 ENSMUSG00000064842  0               0              0            \n",
       "3 ENSMUSG00000051951 72              30              0            \n",
       "4 ENSMUSG00000102851  0               0              0            \n",
       "5 ENSMUSG00000103377  0               0              1            \n",
       "6 ENSMUSG00000104017  0               0              0            \n",
       "  smoc2_normal3 smoc2_fibrosis3 smoc2_normal4 smoc2_fibrosis2\n",
       "1 0              0              0              0             \n",
       "2 0              0              0              0             \n",
       "3 3             36              1             51             \n",
       "4 0              0              0              0             \n",
       "5 0              0              0              0             \n",
       "6 0              0              0              0             "
      ]
     },
     "metadata": {},
     "output_type": "display_data"
    }
   ],
   "source": [
    "#Let's explore the content of raw count matrix\n",
    "smoc2_rawcounts<-read.csv('fibrosis_smoc2_rawcounts.csv')\n",
    "\n",
    "# Explore the first six observations of smoc2_rawcounts\n",
    "head(smoc2_rawcounts)\n"
   ]
  },
  {
   "cell_type": "code",
   "execution_count": 3,
   "metadata": {
    "vscode": {
     "languageId": "r"
    }
   },
   "outputs": [
    {
     "name": "stdout",
     "output_type": "stream",
     "text": [
      "'data.frame':\t47729 obs. of  8 variables:\n",
      " $ X              : chr  \"ENSMUSG00000102693\" \"ENSMUSG00000064842\" \"ENSMUSG00000051951\" \"ENSMUSG00000102851\" ...\n",
      " $ smoc2_fibrosis1: int  0 0 72 0 0 0 0 0 0 1 ...\n",
      " $ smoc2_fibrosis4: int  0 0 30 0 0 0 0 0 0 1 ...\n",
      " $ smoc2_normal1  : int  0 0 0 0 1 0 0 0 0 1 ...\n",
      " $ smoc2_normal3  : int  0 0 3 0 0 0 0 0 0 0 ...\n",
      " $ smoc2_fibrosis3: int  0 0 36 0 0 0 0 0 0 1 ...\n",
      " $ smoc2_normal4  : int  0 0 1 0 0 0 0 0 0 0 ...\n",
      " $ smoc2_fibrosis2: int  0 0 51 0 0 0 0 0 0 1 ...\n"
     ]
    }
   ],
   "source": [
    "# Explore the structure of smoc2_rawcounts\n",
    "str(smoc2_rawcounts)"
   ]
  },
  {
   "attachments": {},
   "cell_type": "markdown",
   "metadata": {},
   "source": [
    "To employ DESeq2 model first we need to make metadata dataframe"
   ]
  },
  {
   "cell_type": "code",
   "execution_count": 4,
   "metadata": {
    "vscode": {
     "languageId": "r"
    }
   },
   "outputs": [],
   "source": [
    "# Create genotype vector\n",
    "genotype <- c('smoc2_oe','smoc2_oe','smoc2_oe','smoc2_oe','smoc2_oe','smoc2_oe','smoc2_oe')\n",
    "\n",
    "# Create condition vector\n",
    "condition <- c(\"fibrosis\",\"fibrosis\",\"fibrosis\",\"fibrosis\",\"normal\",\"normal\",\"normal\")\n",
    "\n",
    "# Create data frame\n",
    "smoc2_metadata <- data.frame(genotype,condition)\n",
    "\n",
    "# Assign the row names of the data frame\n",
    "rownames(smoc2_metadata) <- c('smoc2_fibrosis1','smoc2_fibrosis2','smoc2_fibrosis3','smoc2_fibrosis4','smoc2_normal1','smoc2_normal3','smoc2_normal4')"
   ]
  },
  {
   "cell_type": "code",
   "execution_count": 5,
   "metadata": {
    "vscode": {
     "languageId": "r"
    }
   },
   "outputs": [
    {
     "data": {
      "text/html": [
       "<table class=\"dataframe\">\n",
       "<caption>A data.frame: 7 × 2</caption>\n",
       "<thead>\n",
       "\t<tr><th></th><th scope=col>genotype</th><th scope=col>condition</th></tr>\n",
       "\t<tr><th></th><th scope=col>&lt;chr&gt;</th><th scope=col>&lt;chr&gt;</th></tr>\n",
       "</thead>\n",
       "<tbody>\n",
       "\t<tr><th scope=row>smoc2_fibrosis1</th><td>smoc2_oe</td><td>fibrosis</td></tr>\n",
       "\t<tr><th scope=row>smoc2_fibrosis2</th><td>smoc2_oe</td><td>fibrosis</td></tr>\n",
       "\t<tr><th scope=row>smoc2_fibrosis3</th><td>smoc2_oe</td><td>fibrosis</td></tr>\n",
       "\t<tr><th scope=row>smoc2_fibrosis4</th><td>smoc2_oe</td><td>fibrosis</td></tr>\n",
       "\t<tr><th scope=row>smoc2_normal1</th><td>smoc2_oe</td><td>normal  </td></tr>\n",
       "\t<tr><th scope=row>smoc2_normal3</th><td>smoc2_oe</td><td>normal  </td></tr>\n",
       "\t<tr><th scope=row>smoc2_normal4</th><td>smoc2_oe</td><td>normal  </td></tr>\n",
       "</tbody>\n",
       "</table>\n"
      ],
      "text/latex": [
       "A data.frame: 7 × 2\n",
       "\\begin{tabular}{r|ll}\n",
       "  & genotype & condition\\\\\n",
       "  & <chr> & <chr>\\\\\n",
       "\\hline\n",
       "\tsmoc2\\_fibrosis1 & smoc2\\_oe & fibrosis\\\\\n",
       "\tsmoc2\\_fibrosis2 & smoc2\\_oe & fibrosis\\\\\n",
       "\tsmoc2\\_fibrosis3 & smoc2\\_oe & fibrosis\\\\\n",
       "\tsmoc2\\_fibrosis4 & smoc2\\_oe & fibrosis\\\\\n",
       "\tsmoc2\\_normal1 & smoc2\\_oe & normal  \\\\\n",
       "\tsmoc2\\_normal3 & smoc2\\_oe & normal  \\\\\n",
       "\tsmoc2\\_normal4 & smoc2\\_oe & normal  \\\\\n",
       "\\end{tabular}\n"
      ],
      "text/markdown": [
       "\n",
       "A data.frame: 7 × 2\n",
       "\n",
       "| <!--/--> | genotype &lt;chr&gt; | condition &lt;chr&gt; |\n",
       "|---|---|---|\n",
       "| smoc2_fibrosis1 | smoc2_oe | fibrosis |\n",
       "| smoc2_fibrosis2 | smoc2_oe | fibrosis |\n",
       "| smoc2_fibrosis3 | smoc2_oe | fibrosis |\n",
       "| smoc2_fibrosis4 | smoc2_oe | fibrosis |\n",
       "| smoc2_normal1 | smoc2_oe | normal   |\n",
       "| smoc2_normal3 | smoc2_oe | normal   |\n",
       "| smoc2_normal4 | smoc2_oe | normal   |\n",
       "\n"
      ],
      "text/plain": [
       "                genotype condition\n",
       "smoc2_fibrosis1 smoc2_oe fibrosis \n",
       "smoc2_fibrosis2 smoc2_oe fibrosis \n",
       "smoc2_fibrosis3 smoc2_oe fibrosis \n",
       "smoc2_fibrosis4 smoc2_oe fibrosis \n",
       "smoc2_normal1   smoc2_oe normal   \n",
       "smoc2_normal3   smoc2_oe normal   \n",
       "smoc2_normal4   smoc2_oe normal   "
      ]
     },
     "metadata": {},
     "output_type": "display_data"
    }
   ],
   "source": [
    "smoc2_metadata"
   ]
  },
  {
   "attachments": {},
   "cell_type": "markdown",
   "metadata": {},
   "source": [
    "To assemble statistical model we need to create DESeq2 object. The function - DESeqDataSetFromMatrix has three arguments: raw count matrix, metadata dataframe and design of the formula. In our research DE analysis based on condition: fibrosis/no fibrosis. The formula must contain exact name of the column from metadata"
   ]
  },
  {
   "cell_type": "code",
   "execution_count": 6,
   "metadata": {
    "vscode": {
     "languageId": "r"
    }
   },
   "outputs": [
    {
     "data": {
      "text/html": [
       "<style>\n",
       ".list-inline {list-style: none; margin:0; padding: 0}\n",
       ".list-inline>li {display: inline-block}\n",
       ".list-inline>li:not(:last-child)::after {content: \"\\00b7\"; padding: 0 .5ex}\n",
       "</style>\n",
       "<ol class=list-inline><li>2</li><li>8</li><li>6</li><li>3</li><li>4</li><li>5</li><li>7</li></ol>\n"
      ],
      "text/latex": [
       "\\begin{enumerate*}\n",
       "\\item 2\n",
       "\\item 8\n",
       "\\item 6\n",
       "\\item 3\n",
       "\\item 4\n",
       "\\item 5\n",
       "\\item 7\n",
       "\\end{enumerate*}\n"
      ],
      "text/markdown": [
       "1. 2\n",
       "2. 8\n",
       "3. 6\n",
       "4. 3\n",
       "5. 4\n",
       "6. 5\n",
       "7. 7\n",
       "\n",
       "\n"
      ],
      "text/plain": [
       "[1] 2 8 6 3 4 5 7"
      ]
     },
     "metadata": {},
     "output_type": "display_data"
    }
   ],
   "source": [
    "# Use the match() function to reorder the columns of the raw counts\n",
    "reorder_idx <- match(rownames(smoc2_metadata),colnames(smoc2_rawcounts))\n",
    "reorder_idx"
   ]
  },
  {
   "cell_type": "code",
   "execution_count": 7,
   "metadata": {
    "vscode": {
     "languageId": "r"
    }
   },
   "outputs": [
    {
     "data": {
      "text/html": [
       "<table class=\"dataframe\">\n",
       "<caption>A data.frame: 6 × 7</caption>\n",
       "<thead>\n",
       "\t<tr><th></th><th scope=col>smoc2_fibrosis1</th><th scope=col>smoc2_fibrosis2</th><th scope=col>smoc2_fibrosis3</th><th scope=col>smoc2_fibrosis4</th><th scope=col>smoc2_normal1</th><th scope=col>smoc2_normal3</th><th scope=col>smoc2_normal4</th></tr>\n",
       "\t<tr><th></th><th scope=col>&lt;int&gt;</th><th scope=col>&lt;int&gt;</th><th scope=col>&lt;int&gt;</th><th scope=col>&lt;int&gt;</th><th scope=col>&lt;int&gt;</th><th scope=col>&lt;int&gt;</th><th scope=col>&lt;int&gt;</th></tr>\n",
       "</thead>\n",
       "<tbody>\n",
       "\t<tr><th scope=row>1</th><td> 0</td><td> 0</td><td> 0</td><td> 0</td><td>0</td><td>0</td><td>0</td></tr>\n",
       "\t<tr><th scope=row>2</th><td> 0</td><td> 0</td><td> 0</td><td> 0</td><td>0</td><td>0</td><td>0</td></tr>\n",
       "\t<tr><th scope=row>3</th><td>72</td><td>51</td><td>36</td><td>30</td><td>0</td><td>3</td><td>1</td></tr>\n",
       "\t<tr><th scope=row>4</th><td> 0</td><td> 0</td><td> 0</td><td> 0</td><td>0</td><td>0</td><td>0</td></tr>\n",
       "\t<tr><th scope=row>5</th><td> 0</td><td> 0</td><td> 0</td><td> 0</td><td>1</td><td>0</td><td>0</td></tr>\n",
       "\t<tr><th scope=row>6</th><td> 0</td><td> 0</td><td> 0</td><td> 0</td><td>0</td><td>0</td><td>0</td></tr>\n",
       "</tbody>\n",
       "</table>\n"
      ],
      "text/latex": [
       "A data.frame: 6 × 7\n",
       "\\begin{tabular}{r|lllllll}\n",
       "  & smoc2\\_fibrosis1 & smoc2\\_fibrosis2 & smoc2\\_fibrosis3 & smoc2\\_fibrosis4 & smoc2\\_normal1 & smoc2\\_normal3 & smoc2\\_normal4\\\\\n",
       "  & <int> & <int> & <int> & <int> & <int> & <int> & <int>\\\\\n",
       "\\hline\n",
       "\t1 &  0 &  0 &  0 &  0 & 0 & 0 & 0\\\\\n",
       "\t2 &  0 &  0 &  0 &  0 & 0 & 0 & 0\\\\\n",
       "\t3 & 72 & 51 & 36 & 30 & 0 & 3 & 1\\\\\n",
       "\t4 &  0 &  0 &  0 &  0 & 0 & 0 & 0\\\\\n",
       "\t5 &  0 &  0 &  0 &  0 & 1 & 0 & 0\\\\\n",
       "\t6 &  0 &  0 &  0 &  0 & 0 & 0 & 0\\\\\n",
       "\\end{tabular}\n"
      ],
      "text/markdown": [
       "\n",
       "A data.frame: 6 × 7\n",
       "\n",
       "| <!--/--> | smoc2_fibrosis1 &lt;int&gt; | smoc2_fibrosis2 &lt;int&gt; | smoc2_fibrosis3 &lt;int&gt; | smoc2_fibrosis4 &lt;int&gt; | smoc2_normal1 &lt;int&gt; | smoc2_normal3 &lt;int&gt; | smoc2_normal4 &lt;int&gt; |\n",
       "|---|---|---|---|---|---|---|---|\n",
       "| 1 |  0 |  0 |  0 |  0 | 0 | 0 | 0 |\n",
       "| 2 |  0 |  0 |  0 |  0 | 0 | 0 | 0 |\n",
       "| 3 | 72 | 51 | 36 | 30 | 0 | 3 | 1 |\n",
       "| 4 |  0 |  0 |  0 |  0 | 0 | 0 | 0 |\n",
       "| 5 |  0 |  0 |  0 |  0 | 1 | 0 | 0 |\n",
       "| 6 |  0 |  0 |  0 |  0 | 0 | 0 | 0 |\n",
       "\n"
      ],
      "text/plain": [
       "  smoc2_fibrosis1 smoc2_fibrosis2 smoc2_fibrosis3 smoc2_fibrosis4 smoc2_normal1\n",
       "1  0               0               0               0              0            \n",
       "2  0               0               0               0              0            \n",
       "3 72              51              36              30              0            \n",
       "4  0               0               0               0              0            \n",
       "5  0               0               0               0              1            \n",
       "6  0               0               0               0              0            \n",
       "  smoc2_normal3 smoc2_normal4\n",
       "1 0             0            \n",
       "2 0             0            \n",
       "3 3             1            \n",
       "4 0             0            \n",
       "5 0             0            \n",
       "6 0             0            "
      ]
     },
     "metadata": {},
     "output_type": "display_data"
    }
   ],
   "source": [
    "# Reorder the columns of the count data\n",
    "reordered_smoc2_rawcounts <- smoc2_rawcounts[,reorder_idx]\n",
    "head(reordered_smoc2_rawcounts)"
   ]
  },
  {
   "cell_type": "code",
   "execution_count": 8,
   "metadata": {
    "vscode": {
     "languageId": "r"
    }
   },
   "outputs": [
    {
     "name": "stderr",
     "output_type": "stream",
     "text": [
      "Warning message in DESeqDataSet(se, design = design, ignoreRank):\n",
      "\"some variables in design formula are characters, converting to factors\"\n"
     ]
    }
   ],
   "source": [
    "# Create a DESeq2 object\n",
    "dds_smoc2 <- DESeqDataSetFromMatrix(countData = reordered_smoc2_rawcounts,\n",
    "                              colData =  smoc2_metadata,\n",
    "                              design = ~ condition)"
   ]
  },
  {
   "attachments": {},
   "cell_type": "markdown",
   "metadata": {},
   "source": [
    "* Count normalization there are a number of factors other than RNA expression which can influence the number of reads aligning to each gene. A total number of reads can be different from sample to sample. Another issue that longer genes generate more fragments. Since DE analysis compares the same genes between conditions, we do not need to normalize for gene length. However, if you compare expression levels of different genes you will need to account for lengths of the genes.\n",
    "* Library composition effect When adjusting to library size, the composition of the library is also important. A few highly expressed genes can skew many normalization methods that are not resistant to this outliers. DESeq2 is employed median of ratios method of normalization."
   ]
  },
  {
   "cell_type": "code",
   "execution_count": 9,
   "metadata": {
    "vscode": {
     "languageId": "r"
    }
   },
   "outputs": [],
   "source": [
    "# Determine the size factors to use for normalization\n",
    "dds_smoc2 <- estimateSizeFactors(dds_smoc2)"
   ]
  },
  {
   "cell_type": "code",
   "execution_count": 10,
   "metadata": {
    "vscode": {
     "languageId": "r"
    }
   },
   "outputs": [],
   "source": [
    "# Extract the normalized counts\n",
    "smoc2_normalized_counts <- counts(dds_smoc2, normalized=TRUE)"
   ]
  },
  {
   "cell_type": "code",
   "execution_count": 12,
   "metadata": {
    "vscode": {
     "languageId": "r"
    }
   },
   "outputs": [
    {
     "data": {
      "text/html": [
       "<table class=\"dataframe\">\n",
       "<caption>A matrix: 6 × 7 of type dbl</caption>\n",
       "<thead>\n",
       "\t<tr><th scope=col>smoc2_fibrosis1</th><th scope=col>smoc2_fibrosis2</th><th scope=col>smoc2_fibrosis3</th><th scope=col>smoc2_fibrosis4</th><th scope=col>smoc2_normal1</th><th scope=col>smoc2_normal3</th><th scope=col>smoc2_normal4</th></tr>\n",
       "</thead>\n",
       "<tbody>\n",
       "\t<tr><td> 0.00000</td><td> 0.00000</td><td> 0.0000</td><td> 0.00000</td><td>0.000000</td><td>0.000000</td><td>0.000000</td></tr>\n",
       "\t<tr><td> 0.00000</td><td> 0.00000</td><td> 0.0000</td><td> 0.00000</td><td>0.000000</td><td>0.000000</td><td>0.000000</td></tr>\n",
       "\t<tr><td>50.27992</td><td>45.57786</td><td>28.8461</td><td>27.70902</td><td>0.000000</td><td>3.754818</td><td>1.178908</td></tr>\n",
       "\t<tr><td> 0.00000</td><td> 0.00000</td><td> 0.0000</td><td> 0.00000</td><td>0.000000</td><td>0.000000</td><td>0.000000</td></tr>\n",
       "\t<tr><td> 0.00000</td><td> 0.00000</td><td> 0.0000</td><td> 0.00000</td><td>1.407166</td><td>0.000000</td><td>0.000000</td></tr>\n",
       "\t<tr><td> 0.00000</td><td> 0.00000</td><td> 0.0000</td><td> 0.00000</td><td>0.000000</td><td>0.000000</td><td>0.000000</td></tr>\n",
       "</tbody>\n",
       "</table>\n"
      ],
      "text/latex": [
       "A matrix: 6 × 7 of type dbl\n",
       "\\begin{tabular}{lllllll}\n",
       " smoc2\\_fibrosis1 & smoc2\\_fibrosis2 & smoc2\\_fibrosis3 & smoc2\\_fibrosis4 & smoc2\\_normal1 & smoc2\\_normal3 & smoc2\\_normal4\\\\\n",
       "\\hline\n",
       "\t  0.00000 &  0.00000 &  0.0000 &  0.00000 & 0.000000 & 0.000000 & 0.000000\\\\\n",
       "\t  0.00000 &  0.00000 &  0.0000 &  0.00000 & 0.000000 & 0.000000 & 0.000000\\\\\n",
       "\t 50.27992 & 45.57786 & 28.8461 & 27.70902 & 0.000000 & 3.754818 & 1.178908\\\\\n",
       "\t  0.00000 &  0.00000 &  0.0000 &  0.00000 & 0.000000 & 0.000000 & 0.000000\\\\\n",
       "\t  0.00000 &  0.00000 &  0.0000 &  0.00000 & 1.407166 & 0.000000 & 0.000000\\\\\n",
       "\t  0.00000 &  0.00000 &  0.0000 &  0.00000 & 0.000000 & 0.000000 & 0.000000\\\\\n",
       "\\end{tabular}\n"
      ],
      "text/markdown": [
       "\n",
       "A matrix: 6 × 7 of type dbl\n",
       "\n",
       "| smoc2_fibrosis1 | smoc2_fibrosis2 | smoc2_fibrosis3 | smoc2_fibrosis4 | smoc2_normal1 | smoc2_normal3 | smoc2_normal4 |\n",
       "|---|---|---|---|---|---|---|\n",
       "|  0.00000 |  0.00000 |  0.0000 |  0.00000 | 0.000000 | 0.000000 | 0.000000 |\n",
       "|  0.00000 |  0.00000 |  0.0000 |  0.00000 | 0.000000 | 0.000000 | 0.000000 |\n",
       "| 50.27992 | 45.57786 | 28.8461 | 27.70902 | 0.000000 | 3.754818 | 1.178908 |\n",
       "|  0.00000 |  0.00000 |  0.0000 |  0.00000 | 0.000000 | 0.000000 | 0.000000 |\n",
       "|  0.00000 |  0.00000 |  0.0000 |  0.00000 | 1.407166 | 0.000000 | 0.000000 |\n",
       "|  0.00000 |  0.00000 |  0.0000 |  0.00000 | 0.000000 | 0.000000 | 0.000000 |\n",
       "\n"
      ],
      "text/plain": [
       "     smoc2_fibrosis1 smoc2_fibrosis2 smoc2_fibrosis3 smoc2_fibrosis4\n",
       "[1,]  0.00000         0.00000         0.0000          0.00000       \n",
       "[2,]  0.00000         0.00000         0.0000          0.00000       \n",
       "[3,] 50.27992        45.57786        28.8461         27.70902       \n",
       "[4,]  0.00000         0.00000         0.0000          0.00000       \n",
       "[5,]  0.00000         0.00000         0.0000          0.00000       \n",
       "[6,]  0.00000         0.00000         0.0000          0.00000       \n",
       "     smoc2_normal1 smoc2_normal3 smoc2_normal4\n",
       "[1,] 0.000000      0.000000      0.000000     \n",
       "[2,] 0.000000      0.000000      0.000000     \n",
       "[3,] 0.000000      3.754818      1.178908     \n",
       "[4,] 0.000000      0.000000      0.000000     \n",
       "[5,] 1.407166      0.000000      0.000000     \n",
       "[6,] 0.000000      0.000000      0.000000     "
      ]
     },
     "metadata": {},
     "output_type": "display_data"
    }
   ],
   "source": [
    "head(smoc2_normalized_counts)"
   ]
  },
  {
   "attachments": {},
   "cell_type": "markdown",
   "metadata": {},
   "source": [
    "Unsupervised clustering analysis:\n",
    "\n",
    "- hierarchical clustering heat maps\n",
    "- principal component analysis\n",
    "\n",
    "log transformation (variance stabilizing transformation - moderates a variance across the mean)\n",
    "\n",
    "if our replicates are not clustered as expected, we could plot a heatmap with all the metadata and see whether any other factor corresponds to separation. If you see outlier in clustering, you want to check it in PCA too. If you see an outlier in both methods you could investigate this sample more and decide whether to remove it from the analysis."
   ]
  },
  {
   "cell_type": "code",
   "execution_count": 13,
   "metadata": {
    "vscode": {
     "languageId": "r"
    }
   },
   "outputs": [
    {
     "data": {
      "text/plain": [
       "class: DESeqTransform \n",
       "dim: 6 7 \n",
       "metadata(1): version\n",
       "assays(1): ''\n",
       "rownames: NULL\n",
       "rowData names(4): baseMean baseVar allZero dispFit\n",
       "colnames(7): smoc2_fibrosis1 smoc2_fibrosis2 ... smoc2_normal3\n",
       "  smoc2_normal4\n",
       "colData names(3): genotype condition sizeFactor"
      ]
     },
     "metadata": {},
     "output_type": "display_data"
    }
   ],
   "source": [
    "# Transform the normalized counts \n",
    "vsd_smoc2 <- vst(dds_smoc2, blind = TRUE)\n",
    "vsd_smoc2"
   ]
  },
  {
   "cell_type": "code",
   "execution_count": 14,
   "metadata": {
    "vscode": {
     "languageId": "r"
    }
   },
   "outputs": [
    {
     "data": {
      "text/plain": [
       "class: DESeqTransform \n",
       "dim: 47729 7 \n",
       "metadata(1): version\n",
       "assays(1): ''\n",
       "rownames: NULL\n",
       "rowData names(4): baseMean baseVar allZero dispFit\n",
       "colnames(7): smoc2_fibrosis1 smoc2_fibrosis2 ... smoc2_normal3\n",
       "  smoc2_normal4\n",
       "colData names(3): genotype condition sizeFactor"
      ]
     },
     "metadata": {},
     "output_type": "display_data"
    }
   ],
   "source": [
    "vsd_smoc2"
   ]
  },
  {
   "cell_type": "code",
   "execution_count": 15,
   "metadata": {
    "vscode": {
     "languageId": "r"
    }
   },
   "outputs": [
    {
     "data": {
      "text/html": [
       "<table class=\"dataframe\">\n",
       "<caption>A matrix: 47729 × 7 of type dbl</caption>\n",
       "<thead>\n",
       "\t<tr><th scope=col>smoc2_fibrosis1</th><th scope=col>smoc2_fibrosis2</th><th scope=col>smoc2_fibrosis3</th><th scope=col>smoc2_fibrosis4</th><th scope=col>smoc2_normal1</th><th scope=col>smoc2_normal3</th><th scope=col>smoc2_normal4</th></tr>\n",
       "</thead>\n",
       "<tbody>\n",
       "\t<tr><td>3.641580</td><td>3.641580</td><td>3.641580</td><td>3.641580</td><td>3.641580</td><td>3.641580</td><td>3.641580</td></tr>\n",
       "\t<tr><td>3.641580</td><td>3.641580</td><td>3.641580</td><td>3.641580</td><td>3.641580</td><td>3.641580</td><td>3.641580</td></tr>\n",
       "\t<tr><td>6.191998</td><td>6.092895</td><td>5.664960</td><td>5.630072</td><td>3.641580</td><td>4.423310</td><td>4.083260</td></tr>\n",
       "\t<tr><td>3.641580</td><td>3.641580</td><td>3.641580</td><td>3.641580</td><td>3.641580</td><td>3.641580</td><td>3.641580</td></tr>\n",
       "\t<tr><td>3.641580</td><td>3.641580</td><td>3.641580</td><td>3.641580</td><td>4.123767</td><td>3.641580</td><td>3.641580</td></tr>\n",
       "\t<tr><td>3.641580</td><td>3.641580</td><td>3.641580</td><td>3.641580</td><td>3.641580</td><td>3.641580</td><td>3.641580</td></tr>\n",
       "\t<tr><td>3.641580</td><td>3.641580</td><td>3.641580</td><td>3.641580</td><td>3.641580</td><td>3.641580</td><td>3.641580</td></tr>\n",
       "\t<tr><td>3.641580</td><td>3.641580</td><td>3.641580</td><td>3.641580</td><td>3.641580</td><td>3.641580</td><td>3.641580</td></tr>\n",
       "\t<tr><td>3.641580</td><td>3.641580</td><td>3.641580</td><td>3.641580</td><td>3.641580</td><td>3.641580</td><td>3.641580</td></tr>\n",
       "\t<tr><td>3.982055</td><td>4.026497</td><td>4.006166</td><td>4.032855</td><td>4.123767</td><td>3.641580</td><td>3.641580</td></tr>\n",
       "\t<tr><td>3.641580</td><td>3.641580</td><td>3.641580</td><td>4.032855</td><td>3.641580</td><td>3.641580</td><td>3.641580</td></tr>\n",
       "\t<tr><td>4.645029</td><td>4.304409</td><td>4.591499</td><td>4.193256</td><td>4.123767</td><td>4.096566</td><td>4.083260</td></tr>\n",
       "\t<tr><td>3.641580</td><td>3.641580</td><td>3.641580</td><td>3.641580</td><td>3.641580</td><td>3.641580</td><td>3.641580</td></tr>\n",
       "\t<tr><td>3.641580</td><td>3.641580</td><td>3.641580</td><td>3.641580</td><td>3.641580</td><td>3.641580</td><td>3.641580</td></tr>\n",
       "\t<tr><td>3.641580</td><td>3.641580</td><td>3.641580</td><td>3.641580</td><td>3.641580</td><td>3.641580</td><td>3.641580</td></tr>\n",
       "\t<tr><td>3.641580</td><td>3.641580</td><td>3.641580</td><td>3.641580</td><td>3.641580</td><td>3.641580</td><td>3.641580</td></tr>\n",
       "\t<tr><td>4.396048</td><td>4.304409</td><td>4.713427</td><td>4.417157</td><td>5.175052</td><td>5.412100</td><td>5.718473</td></tr>\n",
       "\t<tr><td>3.641580</td><td>3.641580</td><td>3.641580</td><td>3.641580</td><td>3.641580</td><td>3.641580</td><td>3.641580</td></tr>\n",
       "\t<tr><td>3.641580</td><td>3.641580</td><td>3.641580</td><td>3.641580</td><td>3.641580</td><td>3.641580</td><td>3.641580</td></tr>\n",
       "\t<tr><td>3.641580</td><td>3.641580</td><td>3.641580</td><td>3.641580</td><td>3.641580</td><td>3.641580</td><td>3.641580</td></tr>\n",
       "\t<tr><td>8.507486</td><td>8.248741</td><td>8.518388</td><td>8.031988</td><td>8.619274</td><td>8.877134</td><td>8.791558</td></tr>\n",
       "\t<tr><td>3.641580</td><td>4.026497</td><td>3.641580</td><td>3.641580</td><td>4.123767</td><td>3.641580</td><td>3.641580</td></tr>\n",
       "\t<tr><td>4.530364</td><td>4.492449</td><td>4.448433</td><td>4.193256</td><td>5.237140</td><td>4.965279</td><td>4.400792</td></tr>\n",
       "\t<tr><td>4.121981</td><td>4.026497</td><td>3.641580</td><td>3.641580</td><td>3.641580</td><td>4.096566</td><td>3.641580</td></tr>\n",
       "\t<tr><td>3.641580</td><td>3.641580</td><td>3.641580</td><td>3.641580</td><td>3.641580</td><td>3.641580</td><td>3.641580</td></tr>\n",
       "\t<tr><td>4.121981</td><td>4.026497</td><td>4.269768</td><td>4.417157</td><td>4.469248</td><td>3.641580</td><td>4.263817</td></tr>\n",
       "\t<tr><td>3.641580</td><td>4.026497</td><td>3.641580</td><td>3.641580</td><td>3.641580</td><td>3.641580</td><td>4.083260</td></tr>\n",
       "\t<tr><td>4.530364</td><td>5.202269</td><td>4.768688</td><td>4.788559</td><td>4.320394</td><td>4.734374</td><td>5.054986</td></tr>\n",
       "\t<tr><td>4.228612</td><td>4.492449</td><td>4.006166</td><td>3.641580</td><td>3.641580</td><td>3.641580</td><td>3.641580</td></tr>\n",
       "\t<tr><td>3.641580</td><td>4.026497</td><td>4.006166</td><td>3.641580</td><td>3.641580</td><td>3.641580</td><td>3.641580</td></tr>\n",
       "\t<tr><td>⋮</td><td>⋮</td><td>⋮</td><td>⋮</td><td>⋮</td><td>⋮</td><td>⋮</td></tr>\n",
       "\t<tr><td> 3.641580</td><td> 3.641580</td><td> 3.641580</td><td> 3.641580</td><td> 3.641580</td><td> 3.641580</td><td> 3.641580</td></tr>\n",
       "\t<tr><td> 3.641580</td><td> 3.641580</td><td> 3.641580</td><td> 3.641580</td><td> 3.641580</td><td> 3.641580</td><td> 3.641580</td></tr>\n",
       "\t<tr><td> 3.641580</td><td> 3.641580</td><td> 3.641580</td><td> 3.641580</td><td> 3.641580</td><td> 3.641580</td><td> 3.641580</td></tr>\n",
       "\t<tr><td> 3.641580</td><td> 3.641580</td><td> 3.641580</td><td> 3.641580</td><td> 3.641580</td><td> 3.641580</td><td> 3.641580</td></tr>\n",
       "\t<tr><td> 3.641580</td><td> 3.641580</td><td> 3.641580</td><td> 3.641580</td><td> 3.641580</td><td> 3.641580</td><td> 3.641580</td></tr>\n",
       "\t<tr><td> 3.641580</td><td> 3.641580</td><td> 3.641580</td><td> 3.641580</td><td> 3.641580</td><td> 3.641580</td><td> 3.641580</td></tr>\n",
       "\t<tr><td> 3.641580</td><td> 3.641580</td><td> 3.641580</td><td> 3.641580</td><td> 3.641580</td><td> 3.641580</td><td> 3.641580</td></tr>\n",
       "\t<tr><td> 3.641580</td><td> 3.641580</td><td> 3.641580</td><td> 3.641580</td><td> 3.641580</td><td> 3.641580</td><td> 3.641580</td></tr>\n",
       "\t<tr><td> 3.641580</td><td> 3.641580</td><td> 3.641580</td><td> 3.641580</td><td> 3.641580</td><td> 3.641580</td><td> 3.641580</td></tr>\n",
       "\t<tr><td> 3.641580</td><td> 3.641580</td><td> 3.641580</td><td> 3.641580</td><td> 3.641580</td><td> 3.641580</td><td> 3.641580</td></tr>\n",
       "\t<tr><td> 3.641580</td><td> 3.641580</td><td> 3.641580</td><td> 3.641580</td><td> 3.641580</td><td> 3.641580</td><td> 3.641580</td></tr>\n",
       "\t<tr><td> 3.641580</td><td> 3.641580</td><td> 3.641580</td><td> 3.641580</td><td> 3.641580</td><td> 3.641580</td><td> 3.641580</td></tr>\n",
       "\t<tr><td> 3.641580</td><td> 3.641580</td><td> 3.641580</td><td> 3.641580</td><td> 3.641580</td><td> 3.641580</td><td> 3.641580</td></tr>\n",
       "\t<tr><td> 3.641580</td><td> 3.641580</td><td> 3.641580</td><td> 3.641580</td><td> 3.641580</td><td> 3.641580</td><td> 3.641580</td></tr>\n",
       "\t<tr><td> 4.121981</td><td> 3.641580</td><td> 3.641580</td><td> 3.641580</td><td> 3.641580</td><td> 3.641580</td><td> 3.641580</td></tr>\n",
       "\t<tr><td> 3.982055</td><td> 3.641580</td><td> 3.641580</td><td> 3.641580</td><td> 3.641580</td><td> 3.641580</td><td> 3.641580</td></tr>\n",
       "\t<tr><td> 3.641580</td><td> 3.641580</td><td> 3.641580</td><td> 3.641580</td><td> 3.641580</td><td> 3.641580</td><td> 3.641580</td></tr>\n",
       "\t<tr><td> 3.641580</td><td> 3.641580</td><td> 3.641580</td><td> 3.641580</td><td> 3.641580</td><td> 3.641580</td><td> 3.641580</td></tr>\n",
       "\t<tr><td> 3.641580</td><td> 3.641580</td><td> 3.641580</td><td> 3.641580</td><td> 3.641580</td><td> 3.641580</td><td> 3.641580</td></tr>\n",
       "\t<tr><td> 3.982055</td><td> 4.404769</td><td> 4.006166</td><td> 4.725960</td><td> 3.641580</td><td> 3.641580</td><td> 3.641580</td></tr>\n",
       "\t<tr><td>12.013778</td><td>11.791989</td><td>11.916424</td><td>11.998804</td><td>11.327023</td><td>11.022384</td><td>10.719346</td></tr>\n",
       "\t<tr><td> 9.215624</td><td> 9.408970</td><td> 9.409771</td><td> 9.165539</td><td> 9.533326</td><td> 9.500629</td><td> 9.707123</td></tr>\n",
       "\t<tr><td> 3.641580</td><td> 3.641580</td><td> 4.006166</td><td> 3.641580</td><td> 3.641580</td><td> 3.641580</td><td> 3.641580</td></tr>\n",
       "\t<tr><td> 3.641580</td><td> 3.641580</td><td> 3.641580</td><td> 3.641580</td><td> 3.641580</td><td> 3.641580</td><td> 3.641580</td></tr>\n",
       "\t<tr><td> 3.641580</td><td> 3.641580</td><td> 3.641580</td><td> 3.641580</td><td> 3.641580</td><td> 3.641580</td><td> 3.641580</td></tr>\n",
       "\t<tr><td> 3.641580</td><td> 3.641580</td><td> 3.641580</td><td> 3.641580</td><td> 3.641580</td><td> 3.641580</td><td> 3.641580</td></tr>\n",
       "\t<tr><td> 3.641580</td><td> 3.641580</td><td> 3.641580</td><td> 4.032855</td><td> 3.641580</td><td> 3.641580</td><td> 4.083260</td></tr>\n",
       "\t<tr><td> 3.641580</td><td> 3.641580</td><td> 3.641580</td><td> 3.641580</td><td> 3.641580</td><td> 3.641580</td><td> 3.641580</td></tr>\n",
       "\t<tr><td> 3.641580</td><td> 3.641580</td><td> 3.641580</td><td> 3.641580</td><td> 3.641580</td><td> 3.641580</td><td> 3.641580</td></tr>\n",
       "\t<tr><td> 9.966325</td><td>10.038446</td><td>10.392052</td><td> 9.336117</td><td> 8.202652</td><td> 8.286933</td><td> 8.241594</td></tr>\n",
       "</tbody>\n",
       "</table>\n"
      ],
      "text/latex": [
       "A matrix: 47729 × 7 of type dbl\n",
       "\\begin{tabular}{lllllll}\n",
       " smoc2\\_fibrosis1 & smoc2\\_fibrosis2 & smoc2\\_fibrosis3 & smoc2\\_fibrosis4 & smoc2\\_normal1 & smoc2\\_normal3 & smoc2\\_normal4\\\\\n",
       "\\hline\n",
       "\t 3.641580 & 3.641580 & 3.641580 & 3.641580 & 3.641580 & 3.641580 & 3.641580\\\\\n",
       "\t 3.641580 & 3.641580 & 3.641580 & 3.641580 & 3.641580 & 3.641580 & 3.641580\\\\\n",
       "\t 6.191998 & 6.092895 & 5.664960 & 5.630072 & 3.641580 & 4.423310 & 4.083260\\\\\n",
       "\t 3.641580 & 3.641580 & 3.641580 & 3.641580 & 3.641580 & 3.641580 & 3.641580\\\\\n",
       "\t 3.641580 & 3.641580 & 3.641580 & 3.641580 & 4.123767 & 3.641580 & 3.641580\\\\\n",
       "\t 3.641580 & 3.641580 & 3.641580 & 3.641580 & 3.641580 & 3.641580 & 3.641580\\\\\n",
       "\t 3.641580 & 3.641580 & 3.641580 & 3.641580 & 3.641580 & 3.641580 & 3.641580\\\\\n",
       "\t 3.641580 & 3.641580 & 3.641580 & 3.641580 & 3.641580 & 3.641580 & 3.641580\\\\\n",
       "\t 3.641580 & 3.641580 & 3.641580 & 3.641580 & 3.641580 & 3.641580 & 3.641580\\\\\n",
       "\t 3.982055 & 4.026497 & 4.006166 & 4.032855 & 4.123767 & 3.641580 & 3.641580\\\\\n",
       "\t 3.641580 & 3.641580 & 3.641580 & 4.032855 & 3.641580 & 3.641580 & 3.641580\\\\\n",
       "\t 4.645029 & 4.304409 & 4.591499 & 4.193256 & 4.123767 & 4.096566 & 4.083260\\\\\n",
       "\t 3.641580 & 3.641580 & 3.641580 & 3.641580 & 3.641580 & 3.641580 & 3.641580\\\\\n",
       "\t 3.641580 & 3.641580 & 3.641580 & 3.641580 & 3.641580 & 3.641580 & 3.641580\\\\\n",
       "\t 3.641580 & 3.641580 & 3.641580 & 3.641580 & 3.641580 & 3.641580 & 3.641580\\\\\n",
       "\t 3.641580 & 3.641580 & 3.641580 & 3.641580 & 3.641580 & 3.641580 & 3.641580\\\\\n",
       "\t 4.396048 & 4.304409 & 4.713427 & 4.417157 & 5.175052 & 5.412100 & 5.718473\\\\\n",
       "\t 3.641580 & 3.641580 & 3.641580 & 3.641580 & 3.641580 & 3.641580 & 3.641580\\\\\n",
       "\t 3.641580 & 3.641580 & 3.641580 & 3.641580 & 3.641580 & 3.641580 & 3.641580\\\\\n",
       "\t 3.641580 & 3.641580 & 3.641580 & 3.641580 & 3.641580 & 3.641580 & 3.641580\\\\\n",
       "\t 8.507486 & 8.248741 & 8.518388 & 8.031988 & 8.619274 & 8.877134 & 8.791558\\\\\n",
       "\t 3.641580 & 4.026497 & 3.641580 & 3.641580 & 4.123767 & 3.641580 & 3.641580\\\\\n",
       "\t 4.530364 & 4.492449 & 4.448433 & 4.193256 & 5.237140 & 4.965279 & 4.400792\\\\\n",
       "\t 4.121981 & 4.026497 & 3.641580 & 3.641580 & 3.641580 & 4.096566 & 3.641580\\\\\n",
       "\t 3.641580 & 3.641580 & 3.641580 & 3.641580 & 3.641580 & 3.641580 & 3.641580\\\\\n",
       "\t 4.121981 & 4.026497 & 4.269768 & 4.417157 & 4.469248 & 3.641580 & 4.263817\\\\\n",
       "\t 3.641580 & 4.026497 & 3.641580 & 3.641580 & 3.641580 & 3.641580 & 4.083260\\\\\n",
       "\t 4.530364 & 5.202269 & 4.768688 & 4.788559 & 4.320394 & 4.734374 & 5.054986\\\\\n",
       "\t 4.228612 & 4.492449 & 4.006166 & 3.641580 & 3.641580 & 3.641580 & 3.641580\\\\\n",
       "\t 3.641580 & 4.026497 & 4.006166 & 3.641580 & 3.641580 & 3.641580 & 3.641580\\\\\n",
       "\t ⋮ & ⋮ & ⋮ & ⋮ & ⋮ & ⋮ & ⋮\\\\\n",
       "\t  3.641580 &  3.641580 &  3.641580 &  3.641580 &  3.641580 &  3.641580 &  3.641580\\\\\n",
       "\t  3.641580 &  3.641580 &  3.641580 &  3.641580 &  3.641580 &  3.641580 &  3.641580\\\\\n",
       "\t  3.641580 &  3.641580 &  3.641580 &  3.641580 &  3.641580 &  3.641580 &  3.641580\\\\\n",
       "\t  3.641580 &  3.641580 &  3.641580 &  3.641580 &  3.641580 &  3.641580 &  3.641580\\\\\n",
       "\t  3.641580 &  3.641580 &  3.641580 &  3.641580 &  3.641580 &  3.641580 &  3.641580\\\\\n",
       "\t  3.641580 &  3.641580 &  3.641580 &  3.641580 &  3.641580 &  3.641580 &  3.641580\\\\\n",
       "\t  3.641580 &  3.641580 &  3.641580 &  3.641580 &  3.641580 &  3.641580 &  3.641580\\\\\n",
       "\t  3.641580 &  3.641580 &  3.641580 &  3.641580 &  3.641580 &  3.641580 &  3.641580\\\\\n",
       "\t  3.641580 &  3.641580 &  3.641580 &  3.641580 &  3.641580 &  3.641580 &  3.641580\\\\\n",
       "\t  3.641580 &  3.641580 &  3.641580 &  3.641580 &  3.641580 &  3.641580 &  3.641580\\\\\n",
       "\t  3.641580 &  3.641580 &  3.641580 &  3.641580 &  3.641580 &  3.641580 &  3.641580\\\\\n",
       "\t  3.641580 &  3.641580 &  3.641580 &  3.641580 &  3.641580 &  3.641580 &  3.641580\\\\\n",
       "\t  3.641580 &  3.641580 &  3.641580 &  3.641580 &  3.641580 &  3.641580 &  3.641580\\\\\n",
       "\t  3.641580 &  3.641580 &  3.641580 &  3.641580 &  3.641580 &  3.641580 &  3.641580\\\\\n",
       "\t  4.121981 &  3.641580 &  3.641580 &  3.641580 &  3.641580 &  3.641580 &  3.641580\\\\\n",
       "\t  3.982055 &  3.641580 &  3.641580 &  3.641580 &  3.641580 &  3.641580 &  3.641580\\\\\n",
       "\t  3.641580 &  3.641580 &  3.641580 &  3.641580 &  3.641580 &  3.641580 &  3.641580\\\\\n",
       "\t  3.641580 &  3.641580 &  3.641580 &  3.641580 &  3.641580 &  3.641580 &  3.641580\\\\\n",
       "\t  3.641580 &  3.641580 &  3.641580 &  3.641580 &  3.641580 &  3.641580 &  3.641580\\\\\n",
       "\t  3.982055 &  4.404769 &  4.006166 &  4.725960 &  3.641580 &  3.641580 &  3.641580\\\\\n",
       "\t 12.013778 & 11.791989 & 11.916424 & 11.998804 & 11.327023 & 11.022384 & 10.719346\\\\\n",
       "\t  9.215624 &  9.408970 &  9.409771 &  9.165539 &  9.533326 &  9.500629 &  9.707123\\\\\n",
       "\t  3.641580 &  3.641580 &  4.006166 &  3.641580 &  3.641580 &  3.641580 &  3.641580\\\\\n",
       "\t  3.641580 &  3.641580 &  3.641580 &  3.641580 &  3.641580 &  3.641580 &  3.641580\\\\\n",
       "\t  3.641580 &  3.641580 &  3.641580 &  3.641580 &  3.641580 &  3.641580 &  3.641580\\\\\n",
       "\t  3.641580 &  3.641580 &  3.641580 &  3.641580 &  3.641580 &  3.641580 &  3.641580\\\\\n",
       "\t  3.641580 &  3.641580 &  3.641580 &  4.032855 &  3.641580 &  3.641580 &  4.083260\\\\\n",
       "\t  3.641580 &  3.641580 &  3.641580 &  3.641580 &  3.641580 &  3.641580 &  3.641580\\\\\n",
       "\t  3.641580 &  3.641580 &  3.641580 &  3.641580 &  3.641580 &  3.641580 &  3.641580\\\\\n",
       "\t  9.966325 & 10.038446 & 10.392052 &  9.336117 &  8.202652 &  8.286933 &  8.241594\\\\\n",
       "\\end{tabular}\n"
      ],
      "text/markdown": [
       "\n",
       "A matrix: 47729 × 7 of type dbl\n",
       "\n",
       "| smoc2_fibrosis1 | smoc2_fibrosis2 | smoc2_fibrosis3 | smoc2_fibrosis4 | smoc2_normal1 | smoc2_normal3 | smoc2_normal4 |\n",
       "|---|---|---|---|---|---|---|\n",
       "| 3.641580 | 3.641580 | 3.641580 | 3.641580 | 3.641580 | 3.641580 | 3.641580 |\n",
       "| 3.641580 | 3.641580 | 3.641580 | 3.641580 | 3.641580 | 3.641580 | 3.641580 |\n",
       "| 6.191998 | 6.092895 | 5.664960 | 5.630072 | 3.641580 | 4.423310 | 4.083260 |\n",
       "| 3.641580 | 3.641580 | 3.641580 | 3.641580 | 3.641580 | 3.641580 | 3.641580 |\n",
       "| 3.641580 | 3.641580 | 3.641580 | 3.641580 | 4.123767 | 3.641580 | 3.641580 |\n",
       "| 3.641580 | 3.641580 | 3.641580 | 3.641580 | 3.641580 | 3.641580 | 3.641580 |\n",
       "| 3.641580 | 3.641580 | 3.641580 | 3.641580 | 3.641580 | 3.641580 | 3.641580 |\n",
       "| 3.641580 | 3.641580 | 3.641580 | 3.641580 | 3.641580 | 3.641580 | 3.641580 |\n",
       "| 3.641580 | 3.641580 | 3.641580 | 3.641580 | 3.641580 | 3.641580 | 3.641580 |\n",
       "| 3.982055 | 4.026497 | 4.006166 | 4.032855 | 4.123767 | 3.641580 | 3.641580 |\n",
       "| 3.641580 | 3.641580 | 3.641580 | 4.032855 | 3.641580 | 3.641580 | 3.641580 |\n",
       "| 4.645029 | 4.304409 | 4.591499 | 4.193256 | 4.123767 | 4.096566 | 4.083260 |\n",
       "| 3.641580 | 3.641580 | 3.641580 | 3.641580 | 3.641580 | 3.641580 | 3.641580 |\n",
       "| 3.641580 | 3.641580 | 3.641580 | 3.641580 | 3.641580 | 3.641580 | 3.641580 |\n",
       "| 3.641580 | 3.641580 | 3.641580 | 3.641580 | 3.641580 | 3.641580 | 3.641580 |\n",
       "| 3.641580 | 3.641580 | 3.641580 | 3.641580 | 3.641580 | 3.641580 | 3.641580 |\n",
       "| 4.396048 | 4.304409 | 4.713427 | 4.417157 | 5.175052 | 5.412100 | 5.718473 |\n",
       "| 3.641580 | 3.641580 | 3.641580 | 3.641580 | 3.641580 | 3.641580 | 3.641580 |\n",
       "| 3.641580 | 3.641580 | 3.641580 | 3.641580 | 3.641580 | 3.641580 | 3.641580 |\n",
       "| 3.641580 | 3.641580 | 3.641580 | 3.641580 | 3.641580 | 3.641580 | 3.641580 |\n",
       "| 8.507486 | 8.248741 | 8.518388 | 8.031988 | 8.619274 | 8.877134 | 8.791558 |\n",
       "| 3.641580 | 4.026497 | 3.641580 | 3.641580 | 4.123767 | 3.641580 | 3.641580 |\n",
       "| 4.530364 | 4.492449 | 4.448433 | 4.193256 | 5.237140 | 4.965279 | 4.400792 |\n",
       "| 4.121981 | 4.026497 | 3.641580 | 3.641580 | 3.641580 | 4.096566 | 3.641580 |\n",
       "| 3.641580 | 3.641580 | 3.641580 | 3.641580 | 3.641580 | 3.641580 | 3.641580 |\n",
       "| 4.121981 | 4.026497 | 4.269768 | 4.417157 | 4.469248 | 3.641580 | 4.263817 |\n",
       "| 3.641580 | 4.026497 | 3.641580 | 3.641580 | 3.641580 | 3.641580 | 4.083260 |\n",
       "| 4.530364 | 5.202269 | 4.768688 | 4.788559 | 4.320394 | 4.734374 | 5.054986 |\n",
       "| 4.228612 | 4.492449 | 4.006166 | 3.641580 | 3.641580 | 3.641580 | 3.641580 |\n",
       "| 3.641580 | 4.026497 | 4.006166 | 3.641580 | 3.641580 | 3.641580 | 3.641580 |\n",
       "| ⋮ | ⋮ | ⋮ | ⋮ | ⋮ | ⋮ | ⋮ |\n",
       "|  3.641580 |  3.641580 |  3.641580 |  3.641580 |  3.641580 |  3.641580 |  3.641580 |\n",
       "|  3.641580 |  3.641580 |  3.641580 |  3.641580 |  3.641580 |  3.641580 |  3.641580 |\n",
       "|  3.641580 |  3.641580 |  3.641580 |  3.641580 |  3.641580 |  3.641580 |  3.641580 |\n",
       "|  3.641580 |  3.641580 |  3.641580 |  3.641580 |  3.641580 |  3.641580 |  3.641580 |\n",
       "|  3.641580 |  3.641580 |  3.641580 |  3.641580 |  3.641580 |  3.641580 |  3.641580 |\n",
       "|  3.641580 |  3.641580 |  3.641580 |  3.641580 |  3.641580 |  3.641580 |  3.641580 |\n",
       "|  3.641580 |  3.641580 |  3.641580 |  3.641580 |  3.641580 |  3.641580 |  3.641580 |\n",
       "|  3.641580 |  3.641580 |  3.641580 |  3.641580 |  3.641580 |  3.641580 |  3.641580 |\n",
       "|  3.641580 |  3.641580 |  3.641580 |  3.641580 |  3.641580 |  3.641580 |  3.641580 |\n",
       "|  3.641580 |  3.641580 |  3.641580 |  3.641580 |  3.641580 |  3.641580 |  3.641580 |\n",
       "|  3.641580 |  3.641580 |  3.641580 |  3.641580 |  3.641580 |  3.641580 |  3.641580 |\n",
       "|  3.641580 |  3.641580 |  3.641580 |  3.641580 |  3.641580 |  3.641580 |  3.641580 |\n",
       "|  3.641580 |  3.641580 |  3.641580 |  3.641580 |  3.641580 |  3.641580 |  3.641580 |\n",
       "|  3.641580 |  3.641580 |  3.641580 |  3.641580 |  3.641580 |  3.641580 |  3.641580 |\n",
       "|  4.121981 |  3.641580 |  3.641580 |  3.641580 |  3.641580 |  3.641580 |  3.641580 |\n",
       "|  3.982055 |  3.641580 |  3.641580 |  3.641580 |  3.641580 |  3.641580 |  3.641580 |\n",
       "|  3.641580 |  3.641580 |  3.641580 |  3.641580 |  3.641580 |  3.641580 |  3.641580 |\n",
       "|  3.641580 |  3.641580 |  3.641580 |  3.641580 |  3.641580 |  3.641580 |  3.641580 |\n",
       "|  3.641580 |  3.641580 |  3.641580 |  3.641580 |  3.641580 |  3.641580 |  3.641580 |\n",
       "|  3.982055 |  4.404769 |  4.006166 |  4.725960 |  3.641580 |  3.641580 |  3.641580 |\n",
       "| 12.013778 | 11.791989 | 11.916424 | 11.998804 | 11.327023 | 11.022384 | 10.719346 |\n",
       "|  9.215624 |  9.408970 |  9.409771 |  9.165539 |  9.533326 |  9.500629 |  9.707123 |\n",
       "|  3.641580 |  3.641580 |  4.006166 |  3.641580 |  3.641580 |  3.641580 |  3.641580 |\n",
       "|  3.641580 |  3.641580 |  3.641580 |  3.641580 |  3.641580 |  3.641580 |  3.641580 |\n",
       "|  3.641580 |  3.641580 |  3.641580 |  3.641580 |  3.641580 |  3.641580 |  3.641580 |\n",
       "|  3.641580 |  3.641580 |  3.641580 |  3.641580 |  3.641580 |  3.641580 |  3.641580 |\n",
       "|  3.641580 |  3.641580 |  3.641580 |  4.032855 |  3.641580 |  3.641580 |  4.083260 |\n",
       "|  3.641580 |  3.641580 |  3.641580 |  3.641580 |  3.641580 |  3.641580 |  3.641580 |\n",
       "|  3.641580 |  3.641580 |  3.641580 |  3.641580 |  3.641580 |  3.641580 |  3.641580 |\n",
       "|  9.966325 | 10.038446 | 10.392052 |  9.336117 |  8.202652 |  8.286933 |  8.241594 |\n",
       "\n"
      ],
      "text/plain": [
       "      smoc2_fibrosis1 smoc2_fibrosis2 smoc2_fibrosis3 smoc2_fibrosis4\n",
       " [1,] 3.641580        3.641580        3.641580        3.641580       \n",
       " [2,] 3.641580        3.641580        3.641580        3.641580       \n",
       " [3,] 6.191998        6.092895        5.664960        5.630072       \n",
       " [4,] 3.641580        3.641580        3.641580        3.641580       \n",
       " [5,] 3.641580        3.641580        3.641580        3.641580       \n",
       " [6,] 3.641580        3.641580        3.641580        3.641580       \n",
       " [7,] 3.641580        3.641580        3.641580        3.641580       \n",
       " [8,] 3.641580        3.641580        3.641580        3.641580       \n",
       " [9,] 3.641580        3.641580        3.641580        3.641580       \n",
       "[10,] 3.982055        4.026497        4.006166        4.032855       \n",
       "[11,] 3.641580        3.641580        3.641580        4.032855       \n",
       "[12,] 4.645029        4.304409        4.591499        4.193256       \n",
       "[13,] 3.641580        3.641580        3.641580        3.641580       \n",
       "[14,] 3.641580        3.641580        3.641580        3.641580       \n",
       "[15,] 3.641580        3.641580        3.641580        3.641580       \n",
       "[16,] 3.641580        3.641580        3.641580        3.641580       \n",
       "[17,] 4.396048        4.304409        4.713427        4.417157       \n",
       "[18,] 3.641580        3.641580        3.641580        3.641580       \n",
       "[19,] 3.641580        3.641580        3.641580        3.641580       \n",
       "[20,] 3.641580        3.641580        3.641580        3.641580       \n",
       "[21,] 8.507486        8.248741        8.518388        8.031988       \n",
       "[22,] 3.641580        4.026497        3.641580        3.641580       \n",
       "[23,] 4.530364        4.492449        4.448433        4.193256       \n",
       "[24,] 4.121981        4.026497        3.641580        3.641580       \n",
       "[25,] 3.641580        3.641580        3.641580        3.641580       \n",
       "[26,] 4.121981        4.026497        4.269768        4.417157       \n",
       "[27,] 3.641580        4.026497        3.641580        3.641580       \n",
       "[28,] 4.530364        5.202269        4.768688        4.788559       \n",
       "[29,] 4.228612        4.492449        4.006166        3.641580       \n",
       "[30,] 3.641580        4.026497        4.006166        3.641580       \n",
       "[31,] ⋮               ⋮               ⋮               ⋮              \n",
       "[32,]  3.641580        3.641580        3.641580        3.641580      \n",
       "[33,]  3.641580        3.641580        3.641580        3.641580      \n",
       "[34,]  3.641580        3.641580        3.641580        3.641580      \n",
       "[35,]  3.641580        3.641580        3.641580        3.641580      \n",
       "[36,]  3.641580        3.641580        3.641580        3.641580      \n",
       "[37,]  3.641580        3.641580        3.641580        3.641580      \n",
       "[38,]  3.641580        3.641580        3.641580        3.641580      \n",
       "[39,]  3.641580        3.641580        3.641580        3.641580      \n",
       "[40,]  3.641580        3.641580        3.641580        3.641580      \n",
       "[41,]  3.641580        3.641580        3.641580        3.641580      \n",
       "[42,]  3.641580        3.641580        3.641580        3.641580      \n",
       "[43,]  3.641580        3.641580        3.641580        3.641580      \n",
       "[44,]  3.641580        3.641580        3.641580        3.641580      \n",
       "[45,]  3.641580        3.641580        3.641580        3.641580      \n",
       "[46,]  4.121981        3.641580        3.641580        3.641580      \n",
       "[47,]  3.982055        3.641580        3.641580        3.641580      \n",
       "[48,]  3.641580        3.641580        3.641580        3.641580      \n",
       "[49,]  3.641580        3.641580        3.641580        3.641580      \n",
       "[50,]  3.641580        3.641580        3.641580        3.641580      \n",
       "[51,]  3.982055        4.404769        4.006166        4.725960      \n",
       "[52,] 12.013778       11.791989       11.916424       11.998804      \n",
       "[53,]  9.215624        9.408970        9.409771        9.165539      \n",
       "[54,]  3.641580        3.641580        4.006166        3.641580      \n",
       "[55,]  3.641580        3.641580        3.641580        3.641580      \n",
       "[56,]  3.641580        3.641580        3.641580        3.641580      \n",
       "[57,]  3.641580        3.641580        3.641580        3.641580      \n",
       "[58,]  3.641580        3.641580        3.641580        4.032855      \n",
       "[59,]  3.641580        3.641580        3.641580        3.641580      \n",
       "[60,]  3.641580        3.641580        3.641580        3.641580      \n",
       "[61,]  9.966325       10.038446       10.392052        9.336117      \n",
       "      smoc2_normal1 smoc2_normal3 smoc2_normal4\n",
       " [1,] 3.641580      3.641580      3.641580     \n",
       " [2,] 3.641580      3.641580      3.641580     \n",
       " [3,] 3.641580      4.423310      4.083260     \n",
       " [4,] 3.641580      3.641580      3.641580     \n",
       " [5,] 4.123767      3.641580      3.641580     \n",
       " [6,] 3.641580      3.641580      3.641580     \n",
       " [7,] 3.641580      3.641580      3.641580     \n",
       " [8,] 3.641580      3.641580      3.641580     \n",
       " [9,] 3.641580      3.641580      3.641580     \n",
       "[10,] 4.123767      3.641580      3.641580     \n",
       "[11,] 3.641580      3.641580      3.641580     \n",
       "[12,] 4.123767      4.096566      4.083260     \n",
       "[13,] 3.641580      3.641580      3.641580     \n",
       "[14,] 3.641580      3.641580      3.641580     \n",
       "[15,] 3.641580      3.641580      3.641580     \n",
       "[16,] 3.641580      3.641580      3.641580     \n",
       "[17,] 5.175052      5.412100      5.718473     \n",
       "[18,] 3.641580      3.641580      3.641580     \n",
       "[19,] 3.641580      3.641580      3.641580     \n",
       "[20,] 3.641580      3.641580      3.641580     \n",
       "[21,] 8.619274      8.877134      8.791558     \n",
       "[22,] 4.123767      3.641580      3.641580     \n",
       "[23,] 5.237140      4.965279      4.400792     \n",
       "[24,] 3.641580      4.096566      3.641580     \n",
       "[25,] 3.641580      3.641580      3.641580     \n",
       "[26,] 4.469248      3.641580      4.263817     \n",
       "[27,] 3.641580      3.641580      4.083260     \n",
       "[28,] 4.320394      4.734374      5.054986     \n",
       "[29,] 3.641580      3.641580      3.641580     \n",
       "[30,] 3.641580      3.641580      3.641580     \n",
       "[31,] ⋮             ⋮             ⋮            \n",
       "[32,]  3.641580      3.641580      3.641580    \n",
       "[33,]  3.641580      3.641580      3.641580    \n",
       "[34,]  3.641580      3.641580      3.641580    \n",
       "[35,]  3.641580      3.641580      3.641580    \n",
       "[36,]  3.641580      3.641580      3.641580    \n",
       "[37,]  3.641580      3.641580      3.641580    \n",
       "[38,]  3.641580      3.641580      3.641580    \n",
       "[39,]  3.641580      3.641580      3.641580    \n",
       "[40,]  3.641580      3.641580      3.641580    \n",
       "[41,]  3.641580      3.641580      3.641580    \n",
       "[42,]  3.641580      3.641580      3.641580    \n",
       "[43,]  3.641580      3.641580      3.641580    \n",
       "[44,]  3.641580      3.641580      3.641580    \n",
       "[45,]  3.641580      3.641580      3.641580    \n",
       "[46,]  3.641580      3.641580      3.641580    \n",
       "[47,]  3.641580      3.641580      3.641580    \n",
       "[48,]  3.641580      3.641580      3.641580    \n",
       "[49,]  3.641580      3.641580      3.641580    \n",
       "[50,]  3.641580      3.641580      3.641580    \n",
       "[51,]  3.641580      3.641580      3.641580    \n",
       "[52,] 11.327023     11.022384     10.719346    \n",
       "[53,]  9.533326      9.500629      9.707123    \n",
       "[54,]  3.641580      3.641580      3.641580    \n",
       "[55,]  3.641580      3.641580      3.641580    \n",
       "[56,]  3.641580      3.641580      3.641580    \n",
       "[57,]  3.641580      3.641580      3.641580    \n",
       "[58,]  3.641580      3.641580      4.083260    \n",
       "[59,]  3.641580      3.641580      3.641580    \n",
       "[60,]  3.641580      3.641580      3.641580    \n",
       "[61,]  8.202652      8.286933      8.241594    "
      ]
     },
     "metadata": {},
     "output_type": "display_data"
    }
   ],
   "source": [
    "# Extract the matrix of transformed counts\n",
    "vsd_mat_smoc2 <- assay(vsd_smoc2)\n",
    "vsd_mat_smoc2"
   ]
  },
  {
   "cell_type": "code",
   "execution_count": 16,
   "metadata": {
    "vscode": {
     "languageId": "r"
    }
   },
   "outputs": [],
   "source": [
    "# Compute the correlation values between samples\n",
    "vsd_cor_smoc2 <- cor(vsd_mat_smoc2) \n"
   ]
  },
  {
   "cell_type": "code",
   "execution_count": 20,
   "metadata": {
    "vscode": {
     "languageId": "r"
    }
   },
   "outputs": [
    {
     "data": {
      "image/png": "[encoded data removed]",
      "text/plain": [
       "plot without title"
      ]
     },
     "metadata": {
      "image/png": {
       "height": 420,
       "width": 420
      }
     },
     "output_type": "display_data"
    }
   ],
   "source": [
    "# Plot the heatmap\n",
    "pheatmap(vsd_cor_smoc2, annotation = select(smoc2_metadata, condition))"
   ]
  },
  {
   "attachments": {},
   "cell_type": "markdown",
   "metadata": {},
   "source": [
    "Principal component analysis\n",
    "\n",
    "We can make clusters by making principal components (PC1 and PC2) - vectors which represent the biggest change in the number of reads of genes across the samples"
   ]
  },
  {
   "cell_type": "code",
   "execution_count": 21,
   "metadata": {
    "vscode": {
     "languageId": "r"
    }
   },
   "outputs": [
    {
     "data": {
      "image/png": "[encoded data removed]",
      "text/plain": [
       "plot without title"
      ]
     },
     "metadata": {
      "image/png": {
       "height": 420,
       "width": 420
      }
     },
     "output_type": "display_data"
    }
   ],
   "source": [
    "# Transform the normalized counts \n",
    "vsd_smoc2 <- vst(dds_smoc2, blind = TRUE)\n",
    "\n",
    "# Plot the PCA of PC1 and PC2\n",
    "plotPCA(vsd_smoc2, intgroup='condition')"
   ]
  },
  {
   "attachments": {},
   "cell_type": "markdown",
   "metadata": {},
   "source": [
    "DE analysis workflow:\n",
    "\n",
    "1. fitting the raw counts to each gene to DEseq2 negative binomial model and testing for differential expression\n",
    "2. shrinking log2 fold changes\n",
    "3. extracting and visualizing the result"
   ]
  },
  {
   "attachments": {},
   "cell_type": "markdown",
   "metadata": {},
   "source": [
    "1.Modelling raw counts for each gene:\n",
    "\n",
    "1.1 estimate size factors\n",
    "\n",
    "1.2 estimate variation in expression across replicates for each gene\n",
    "\n",
    "1.3 fit to negative binomial model"
   ]
  },
  {
   "attachments": {},
   "cell_type": "markdown",
   "metadata": {},
   "source": [
    "Variation and Dispersion\n",
    "\n",
    "How well our data fit the model?"
   ]
  },
  {
   "attachments": {},
   "cell_type": "markdown",
   "metadata": {},
   "source": [
    "To model the counts requires the mean and variation in the data\n",
    "\n",
    "To explore the variation of the data we will explore the variance in gene expression relative to the mean. Variance is a square of standart deviation, representing how far away the individual samples are from the mean. For RNAseq data the variance is generally expected to increase with the gene's mean expression. A measure of the variance for a given mean is described by the metric called dispersion:\n",
    "\n",
    "Variance=mean+dispersion x mean^2"
   ]
  },
  {
   "attachments": {},
   "cell_type": "markdown",
   "metadata": {},
   "source": [
    "Plot of dispersion relative to the mean for each gene can be useful to check if our data fit to DEseq model. We expect dispersion values to decrease with increasing mean. With only a few replicates for RNAseq data, gene-wise estimates of dispersion are often inaccurate. DEseq uses information across all genes to determine the most likely estimates for a given mean expression value.\n",
    "\n",
    "If dispersions don't decrease with increasing mean this problem can be often explaned by contamination and sample outliers."
   ]
  },
  {
   "cell_type": "code",
   "execution_count": 22,
   "metadata": {
    "vscode": {
     "languageId": "r"
    }
   },
   "outputs": [
    {
     "name": "stderr",
     "output_type": "stream",
     "text": [
      "using pre-existing size factors\n",
      "\n",
      "estimating dispersions\n",
      "\n",
      "gene-wise dispersion estimates\n",
      "\n",
      "mean-dispersion relationship\n",
      "\n",
      "final dispersion estimates\n",
      "\n",
      "fitting model and testing\n",
      "\n"
     ]
    },
    {
     "data": {
      "image/png": "[encoded data removed]",
      "text/plain": [
       "plot without title"
      ]
     },
     "metadata": {
      "image/png": {
       "height": 420,
       "width": 420
      }
     },
     "output_type": "display_data"
    }
   ],
   "source": [
    "# Plot dispersions\n",
    "dds_smoc2_<-DESeq(dds_smoc2)\n",
    "plotDispEsts(dds_smoc2_)"
   ]
  },
  {
   "cell_type": "code",
   "execution_count": 25,
   "metadata": {
    "vscode": {
     "languageId": "r"
    }
   },
   "outputs": [
    {
     "data": {
      "text/plain": [
       "class: DESeqDataSet \n",
       "dim: 6 7 \n",
       "metadata(1): version\n",
       "assays(4): counts mu H cooks\n",
       "rownames: NULL\n",
       "rowData names(22): baseMean baseVar ... deviance maxCooks\n",
       "colnames(7): smoc2_fibrosis1 smoc2_fibrosis2 ... smoc2_normal3\n",
       "  smoc2_normal4\n",
       "colData names(3): genotype condition sizeFactor"
      ]
     },
     "metadata": {},
     "output_type": "display_data"
    }
   ],
   "source": [
    "head(dds_smoc2_)"
   ]
  },
  {
   "cell_type": "code",
   "execution_count": 23,
   "metadata": {
    "vscode": {
     "languageId": "r"
    }
   },
   "outputs": [],
   "source": [
    "# Extract the results of the differential expression analysis\n",
    "smoc2_res <- results(dds_smoc2_, \n",
    "                contrast = c('condition','fibrosis','normal'), \n",
    "                alpha = 0.05)"
   ]
  },
  {
   "cell_type": "code",
   "execution_count": 24,
   "metadata": {
    "vscode": {
     "languageId": "r"
    }
   },
   "outputs": [
    {
     "data": {
      "text/plain": [
       "log2 fold change (MLE): condition fibrosis vs normal \n",
       "Wald test p-value: condition fibrosis vs normal \n",
       "DataFrame with 6 rows and 6 columns\n",
       "   baseMean log2FoldChange     lfcSE      stat      pvalue        padj\n",
       "  <numeric>      <numeric> <numeric> <numeric>   <numeric>   <numeric>\n",
       "1  0.000000             NA        NA        NA          NA          NA\n",
       "2  0.000000             NA        NA        NA          NA          NA\n",
       "3 22.478090        4.49814  0.829291  5.424085 5.82520e-08 2.54201e-07\n",
       "4  0.000000             NA        NA        NA          NA          NA\n",
       "5  0.201024       -1.59170  3.816946 -0.417009 6.76672e-01          NA\n",
       "6  0.000000             NA        NA        NA          NA          NA"
      ]
     },
     "metadata": {},
     "output_type": "display_data"
    }
   ],
   "source": [
    "head(smoc2_res)"
   ]
  },
  {
   "cell_type": "code",
   "execution_count": 27,
   "metadata": {
    "vscode": {
     "languageId": "r"
    }
   },
   "outputs": [
    {
     "name": "stderr",
     "output_type": "stream",
     "text": [
      "using 'normal' for LFC shrinkage, the Normal prior from Love et al (2014).\n",
      "\n",
      "Note that type='apeglm' and type='ashr' have shown to have less bias than type='normal'.\n",
      "See ?lfcShrink for more details on shrinkage type, and the DESeq2 vignette.\n",
      "Reference: https://doi.org/10.1093/bioinformatics/bty895\n",
      "\n"
     ]
    }
   ],
   "source": [
    "# Shrink the log2 fold change estimates to be more accurate\n",
    "smoc2_res <- lfcShrink(dds_smoc2_, \n",
    "                    contrast =  c('condition', 'fibrosis', 'normal'),\n",
    "                    res = smoc2_res, type=\"normal\")"
   ]
  },
  {
   "cell_type": "code",
   "execution_count": 28,
   "metadata": {
    "vscode": {
     "languageId": "r"
    }
   },
   "outputs": [],
   "source": [
    "# Extract results\n",
    "smoc2_res <- results(dds_smoc2_, \n",
    "                contrast = c(\"condition\", \"fibrosis\", \"normal\"), \n",
    "                alpha = 0.05, \n",
    "                lfcThreshold = 0.32)"
   ]
  },
  {
   "cell_type": "code",
   "execution_count": 29,
   "metadata": {
    "vscode": {
     "languageId": "r"
    }
   },
   "outputs": [
    {
     "name": "stderr",
     "output_type": "stream",
     "text": [
      "using 'normal' for LFC shrinkage, the Normal prior from Love et al (2014).\n",
      "\n",
      "Note that type='apeglm' and type='ashr' have shown to have less bias than type='normal'.\n",
      "See ?lfcShrink for more details on shrinkage type, and the DESeq2 vignette.\n",
      "Reference: https://doi.org/10.1093/bioinformatics/bty895\n",
      "\n"
     ]
    }
   ],
   "source": [
    "# Shrink the log2 fold changes\n",
    "smoc2_res <- lfcShrink(dds_smoc2_, \n",
    "                    contrast = c(\"condition\", \"fibrosis\", \"normal\"), \n",
    "                    res = smoc2_res,type=\"normal\")"
   ]
  },
  {
   "cell_type": "code",
   "execution_count": 30,
   "metadata": {
    "vscode": {
     "languageId": "r"
    }
   },
   "outputs": [
    {
     "name": "stdout",
     "output_type": "stream",
     "text": [
      "\n",
      "out of 29556 with nonzero total read count\n",
      "adjusted p-value < 0.05\n",
      "LFC > 0 (up)       : 3716, 13%\n",
      "LFC < 0 (down)     : 3322, 11%\n",
      "outliers [1]       : 15, 0.051%\n",
      "low counts [2]     : 7207, 24%\n",
      "(mean count < 1)\n",
      "[1] see 'cooksCutoff' argument of ?results\n",
      "[2] see 'independentFiltering' argument of ?results\n",
      "\n"
     ]
    }
   ],
   "source": [
    "# Get an overview of the results                    \n",
    "summary(smoc2_res)\n",
    "\n",
    "# Save results as a data frame\n",
    "smoc2_res_all <- data.frame(smoc2_res)\n",
    "\n",
    "# Subset the results to only return the significant genes with p-adjusted values less than 0.05\n",
    "smoc2_res_sig <- subset(smoc2_res_all, padj < 0.05)"
   ]
  },
  {
   "cell_type": "code",
   "execution_count": 31,
   "metadata": {
    "vscode": {
     "languageId": "r"
    }
   },
   "outputs": [
    {
     "data": {
      "text/html": [
       "<style>\n",
       ".list-inline {list-style: none; margin:0; padding: 0}\n",
       ".list-inline>li {display: inline-block}\n",
       ".list-inline>li:not(:last-child)::after {content: \"\\00b7\"; padding: 0 .5ex}\n",
       "</style>\n",
       "<ol class=list-inline><li>47729</li><li>6</li></ol>\n"
      ],
      "text/latex": [
       "\\begin{enumerate*}\n",
       "\\item 47729\n",
       "\\item 6\n",
       "\\end{enumerate*}\n"
      ],
      "text/markdown": [
       "1. 47729\n",
       "2. 6\n",
       "\n",
       "\n"
      ],
      "text/plain": [
       "[1] 47729     6"
      ]
     },
     "metadata": {},
     "output_type": "display_data"
    }
   ],
   "source": [
    "dim(smoc2_res_all)"
   ]
  },
  {
   "cell_type": "code",
   "execution_count": 32,
   "metadata": {
    "vscode": {
     "languageId": "r"
    }
   },
   "outputs": [
    {
     "data": {
      "text/html": [
       "<style>\n",
       ".list-inline {list-style: none; margin:0; padding: 0}\n",
       ".list-inline>li {display: inline-block}\n",
       ".list-inline>li:not(:last-child)::after {content: \"\\00b7\"; padding: 0 .5ex}\n",
       "</style>\n",
       "<ol class=list-inline><li>7038</li><li>6</li></ol>\n"
      ],
      "text/latex": [
       "\\begin{enumerate*}\n",
       "\\item 7038\n",
       "\\item 6\n",
       "\\end{enumerate*}\n"
      ],
      "text/markdown": [
       "1. 7038\n",
       "2. 6\n",
       "\n",
       "\n"
      ],
      "text/plain": [
       "[1] 7038    6"
      ]
     },
     "metadata": {},
     "output_type": "display_data"
    }
   ],
   "source": [
    "dim(smoc2_res_sig)"
   ]
  },
  {
   "attachments": {},
   "cell_type": "markdown",
   "metadata": {},
   "source": [
    "Visualisation of results\n",
    "\n",
    "1. Expression heatmap\n",
    "2. Volcano plot\n",
    "3. MA plot"
   ]
  },
  {
   "attachments": {},
   "cell_type": "markdown",
   "metadata": {},
   "source": [
    "To explore the results, visualizations can be helpful to see a global view of the data, as well as, characteristics of the significant genes. Usually, we expect to see significant genes identified across the range of mean values, which we can plot using the MA plot. If we only see significant genes with high mean values, then it could indicate an issue with our data. The volcano plot helps us to get an idea of the range of fold changes needed to identify significance in our data.\n",
    "\n",
    "Let's explore our results using MA plots and volcano plots."
   ]
  },
  {
   "cell_type": "code",
   "execution_count": 33,
   "metadata": {
    "vscode": {
     "languageId": "r"
    }
   },
   "outputs": [
    {
     "name": "stderr",
     "output_type": "stream",
     "text": [
      "Warning message:\n",
      "\"\u001b[1m\u001b[22mRemoved 25395 rows containing missing values (`geom_point()`).\"\n"
     ]
    },
    {
     "data": {
      "image/png": "[encoded data removed]",
      "text/plain": [
       "Plot with title \"\""
      ]
     },
     "metadata": {
      "image/png": {
       "height": 420,
       "width": 420
      }
     },
     "output_type": "display_data"
    },
    {
     "data": {
      "image/png": "[encoded data removed]",
      "text/plain": [
       "plot without title"
      ]
     },
     "metadata": {
      "image/png": {
       "height": 420,
       "width": 420
      }
     },
     "output_type": "display_data"
    }
   ],
   "source": [
    "# Create MA plot\n",
    "plotMA(smoc2_res)\n",
    "\n",
    "# Generate logical column \n",
    "smoc2_res_all <- data.frame(smoc2_res) %>% mutate(threshold = padj < 0.05)\n",
    "              \n",
    "# Create the volcano plot\n",
    "ggplot(smoc2_res_all) + \n",
    "        geom_point(aes(x = log2FoldChange, y = -log10(padj), color = threshold)) + \n",
    "        xlab(\"log2 fold change\") + \n",
    "        ylab(\"-log10 adjusted p-value\") + \n",
    "        theme(legend.position = \"none\", \n",
    "              plot.title = element_text(size = rel(1.5), hjust = 0.5), \n",
    "              axis.title = element_text(size = rel(1.25)))"
   ]
  },
  {
   "cell_type": "code",
   "execution_count": 34,
   "metadata": {
    "vscode": {
     "languageId": "r"
    }
   },
   "outputs": [
    {
     "data": {
      "image/png": "[encoded data removed]",
      "text/plain": [
       "plot without title"
      ]
     },
     "metadata": {
      "image/png": {
       "height": 420,
       "width": 420
      }
     },
     "output_type": "display_data"
    }
   ],
   "source": [
    "#Transform normalized counts to dataframe\n",
    "smoc2_normalized_counts<-data.frame(smoc2_normalized_counts)\n",
    "\n",
    "# Subset normalized counts to significant genes\n",
    "sig_norm_counts_smoc2 <- smoc2_normalized_counts[rownames(smoc2_res_sig), ]\n",
    "\n",
    "# Choose heatmap color palette\n",
    "heat_colors <- brewer.pal(n = 6, name = \"YlOrRd\")\n",
    "\n",
    "# Plot heatmap\n",
    "pheatmap(sig_norm_counts_smoc2, \n",
    "         color = heat_colors, \n",
    "         cluster_rows = T, \n",
    "         show_rownames = F,\n",
    "         annotation = select(smoc2_metadata, condition), \n",
    "         scale = 'row')"
   ]
  },
  {
   "cell_type": "code",
   "execution_count": null,
   "metadata": {
    "vscode": {
     "languageId": "r"
    }
   },
   "outputs": [],
   "source": []
  }
 ],
 "metadata": {
  "kernelspec": {
   "display_name": "R",
   "language": "R",
   "name": "ir"
  },
  "language_info": {
   "codemirror_mode": "r",
   "file_extension": ".r",
   "mimetype": "text/x-r-source",
   "name": "R",
   "pygments_lexer": "r",
   "version": "4.3.0"
  },
  "orig_nbformat": 4
 },
 "nbformat": 4,
 "nbformat_minor": 2
}
