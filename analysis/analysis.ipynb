{
 "cells": [
  {
   "attachments": {},
   "cell_type": "markdown",
   "metadata": {},
   "source": [
    "Testing R functionality in Notebook"
   ]
  },
  {
   "cell_type": "code",
   "execution_count": 1,
   "metadata": {
    "vscode": {
     "languageId": "r"
    }
   },
   "outputs": [],
   "source": [
    "a <- 100*3"
   ]
  },
  {
   "cell_type": "code",
   "execution_count": 2,
   "metadata": {
    "vscode": {
     "languageId": "r"
    }
   },
   "outputs": [
    {
     "data": {
      "text/html": [
       "'f:/kiran/ml model on agric/RNASEQ_Upstream_downstream/analysis'"
      ],
      "text/latex": [
       "'f:/kiran/ml model on agric/RNASEQ\\_Upstream\\_downstream/analysis'"
      ],
      "text/markdown": [
       "'f:/kiran/ml model on agric/RNASEQ_Upstream_downstream/analysis'"
      ],
      "text/plain": [
       "[1] \"f:/kiran/ml model on agric/RNASEQ_Upstream_downstream/analysis\""
      ]
     },
     "metadata": {},
     "output_type": "display_data"
    }
   ],
   "source": [
    "getwd()"
   ]
  },
  {
   "attachments": {},
   "cell_type": "markdown",
   "metadata": {},
   "source": [
    "Importing the data manupluation libraries"
   ]
  },
  {
   "cell_type": "code",
   "execution_count": 2,
   "metadata": {
    "vscode": {
     "languageId": "r"
    }
   },
   "outputs": [
    {
     "name": "stderr",
     "output_type": "stream",
     "text": [
      "\n",
      "Attaching package: 'dplyr'\n",
      "\n",
      "\n",
      "The following objects are masked from 'package:stats':\n",
      "\n",
      "    filter, lag\n",
      "\n",
      "\n",
      "The following objects are masked from 'package:base':\n",
      "\n",
      "    intersect, setdiff, setequal, union\n",
      "\n",
      "\n",
      "── \u001b[1mAttaching core tidyverse packages\u001b[22m ──────────────────────── tidyverse 2.0.0 ──\n",
      "\u001b[32m✔\u001b[39m \u001b[34mforcats  \u001b[39m 1.0.0     \u001b[32m✔\u001b[39m \u001b[34mreadr    \u001b[39m 2.1.4\n",
      "\u001b[32m✔\u001b[39m \u001b[34mggplot2  \u001b[39m 3.4.2     \u001b[32m✔\u001b[39m \u001b[34mstringr  \u001b[39m 1.5.0\n",
      "\u001b[32m✔\u001b[39m \u001b[34mlubridate\u001b[39m 1.9.2     \u001b[32m✔\u001b[39m \u001b[34mtibble   \u001b[39m 3.2.1\n",
      "\u001b[32m✔\u001b[39m \u001b[34mpurrr    \u001b[39m 1.0.1     \u001b[32m✔\u001b[39m \u001b[34mtidyr    \u001b[39m 1.3.0\n",
      "── \u001b[1mConflicts\u001b[22m ────────────────────────────────────────── tidyverse_conflicts() ──\n",
      "\u001b[31m✖\u001b[39m \u001b[34mdplyr\u001b[39m::\u001b[32mfilter()\u001b[39m masks \u001b[34mstats\u001b[39m::filter()\n",
      "\u001b[31m✖\u001b[39m \u001b[34mdplyr\u001b[39m::\u001b[32mlag()\u001b[39m    masks \u001b[34mstats\u001b[39m::lag()\n",
      "\u001b[36mℹ\u001b[39m Use the conflicted package (\u001b[3m\u001b[34m<http://conflicted.r-lib.org/>\u001b[39m\u001b[23m) to force all conflicts to become errors\n",
      "Loading required package: Biobase\n",
      "\n",
      "Loading required package: BiocGenerics\n",
      "\n",
      "\n",
      "Attaching package: 'BiocGenerics'\n",
      "\n",
      "\n",
      "The following objects are masked from 'package:lubridate':\n",
      "\n",
      "    intersect, setdiff, union\n",
      "\n",
      "\n",
      "The following objects are masked from 'package:dplyr':\n",
      "\n",
      "    combine, intersect, setdiff, union\n",
      "\n",
      "\n",
      "The following objects are masked from 'package:stats':\n",
      "\n",
      "    IQR, mad, sd, var, xtabs\n",
      "\n",
      "\n",
      "The following objects are masked from 'package:base':\n",
      "\n",
      "    anyDuplicated, aperm, append, as.data.frame, basename, cbind,\n",
      "    colnames, dirname, do.call, duplicated, eval, evalq, Filter, Find,\n",
      "    get, grep, grepl, intersect, is.unsorted, lapply, Map, mapply,\n",
      "    match, mget, order, paste, pmax, pmax.int, pmin, pmin.int,\n",
      "    Position, rank, rbind, Reduce, rownames, sapply, setdiff, sort,\n",
      "    table, tapply, union, unique, unsplit, which.max, which.min\n",
      "\n",
      "\n",
      "Welcome to Bioconductor\n",
      "\n",
      "    Vignettes contain introductory material; view with\n",
      "    'browseVignettes()'. To cite Bioconductor, see\n",
      "    'citation(\"Biobase\")', and for packages 'citation(\"pkgname\")'.\n",
      "\n",
      "\n",
      "Setting options('download.file.method.GEOquery'='auto')\n",
      "\n",
      "Setting options('GEOquery.inmemory.gpl'=FALSE)\n",
      "\n"
     ]
    }
   ],
   "source": [
    "library(dplyr)\n",
    "library(tidyverse)\n",
    "library(GEOquery)"
   ]
  },
  {
   "attachments": {},
   "cell_type": "markdown",
   "metadata": {},
   "source": [
    "Loading the feature count data that we downloaded from GEO"
   ]
  },
  {
   "cell_type": "code",
   "execution_count": 3,
   "metadata": {
    "vscode": {
     "languageId": "r"
    }
   },
   "outputs": [
    {
     "data": {
      "text/html": [
       "<style>\n",
       ".list-inline {list-style: none; margin:0; padding: 0}\n",
       ".list-inline>li {display: inline-block}\n",
       ".list-inline>li:not(:last-child)::after {content: \"\\00b7\"; padding: 0 .5ex}\n",
       "</style>\n",
       "<ol class=list-inline><li>20246</li><li>61</li></ol>\n"
      ],
      "text/latex": [
       "\\begin{enumerate*}\n",
       "\\item 20246\n",
       "\\item 61\n",
       "\\end{enumerate*}\n"
      ],
      "text/markdown": [
       "1. 20246\n",
       "2. 61\n",
       "\n",
       "\n"
      ],
      "text/plain": [
       "[1] 20246    61"
      ]
     },
     "metadata": {},
     "output_type": "display_data"
    }
   ],
   "source": [
    "# read in the data ---------\n",
    "dat <- read.csv(file = \"GSE183947_fpkm.csv\")\n",
    "dim(dat)"
   ]
  },
  {
   "cell_type": "code",
   "execution_count": 4,
   "metadata": {
    "vscode": {
     "languageId": "r"
    }
   },
   "outputs": [
    {
     "data": {
      "text/html": [
       "<table class=\"dataframe\">\n",
       "<caption>A data.frame: 6 × 61</caption>\n",
       "<thead>\n",
       "\t<tr><th></th><th scope=col>X</th><th scope=col>CA.102548</th><th scope=col>CA.104338</th><th scope=col>CA.105094</th><th scope=col>CA.109745</th><th scope=col>CA.1906415</th><th scope=col>CA.1912627</th><th scope=col>CA.1924346</th><th scope=col>CA.1926760</th><th scope=col>CA.1927842</th><th scope=col>⋯</th><th scope=col>CAP.2040686</th><th scope=col>CAP.2046297</th><th scope=col>CAP.2046641</th><th scope=col>CAP.348981</th><th scope=col>CAP.354300</th><th scope=col>CAP.359448</th><th scope=col>CAP.94377</th><th scope=col>CAP.98389</th><th scope=col>CAP.98475</th><th scope=col>CAP.99145</th></tr>\n",
       "\t<tr><th></th><th scope=col>&lt;chr&gt;</th><th scope=col>&lt;dbl&gt;</th><th scope=col>&lt;dbl&gt;</th><th scope=col>&lt;dbl&gt;</th><th scope=col>&lt;dbl&gt;</th><th scope=col>&lt;dbl&gt;</th><th scope=col>&lt;dbl&gt;</th><th scope=col>&lt;dbl&gt;</th><th scope=col>&lt;dbl&gt;</th><th scope=col>&lt;dbl&gt;</th><th scope=col>⋯</th><th scope=col>&lt;dbl&gt;</th><th scope=col>&lt;dbl&gt;</th><th scope=col>&lt;dbl&gt;</th><th scope=col>&lt;dbl&gt;</th><th scope=col>&lt;dbl&gt;</th><th scope=col>&lt;dbl&gt;</th><th scope=col>&lt;dbl&gt;</th><th scope=col>&lt;dbl&gt;</th><th scope=col>&lt;dbl&gt;</th><th scope=col>&lt;dbl&gt;</th></tr>\n",
       "</thead>\n",
       "<tbody>\n",
       "\t<tr><th scope=row>1</th><td>TSPAN6  </td><td>0.93</td><td>1.97</td><td>0.00</td><td>5.45</td><td> 4.52</td><td> 4.75</td><td> 3.96</td><td> 3.58</td><td>6.41</td><td>⋯</td><td>6.66</td><td>8.35</td><td> 8.94</td><td> 6.33</td><td>5.94</td><td> 6.35</td><td> 3.74</td><td>4.84</td><td>10.46</td><td> 4.54</td></tr>\n",
       "\t<tr><th scope=row>2</th><td>TNMD    </td><td>0.00</td><td>0.00</td><td>0.00</td><td>0.00</td><td> 0.00</td><td> 0.00</td><td> 0.00</td><td> 0.23</td><td>0.39</td><td>⋯</td><td>0.12</td><td>0.17</td><td> 1.08</td><td> 0.29</td><td>0.00</td><td> 0.07</td><td> 9.19</td><td>1.18</td><td> 0.09</td><td> 0.39</td></tr>\n",
       "\t<tr><th scope=row>3</th><td>DPM1    </td><td>0.00</td><td>0.43</td><td>0.00</td><td>3.43</td><td> 8.45</td><td> 8.53</td><td> 7.80</td><td> 7.62</td><td>6.40</td><td>⋯</td><td>4.93</td><td>7.47</td><td> 5.72</td><td> 4.96</td><td>9.28</td><td> 9.15</td><td> 4.77</td><td>3.75</td><td> 7.31</td><td> 2.77</td></tr>\n",
       "\t<tr><th scope=row>4</th><td>SCYL3   </td><td>5.78</td><td>5.17</td><td>8.76</td><td>4.58</td><td> 7.20</td><td> 6.03</td><td> 9.05</td><td> 5.37</td><td>5.92</td><td>⋯</td><td>8.02</td><td>6.00</td><td> 5.28</td><td> 4.98</td><td>4.45</td><td> 7.00</td><td> 4.14</td><td>5.51</td><td> 7.45</td><td> 2.33</td></tr>\n",
       "\t<tr><th scope=row>5</th><td>C1orf112</td><td>2.83</td><td>6.26</td><td>3.37</td><td>6.24</td><td> 5.16</td><td>13.69</td><td> 6.69</td><td> 5.28</td><td>7.65</td><td>⋯</td><td>7.91</td><td>4.61</td><td> 8.35</td><td> 9.84</td><td>7.68</td><td> 5.62</td><td> 2.81</td><td>7.08</td><td> 7.28</td><td> 5.39</td></tr>\n",
       "\t<tr><th scope=row>6</th><td>FGR     </td><td>4.80</td><td>1.83</td><td>0.00</td><td>4.23</td><td>15.87</td><td> 8.56</td><td>13.28</td><td>12.27</td><td>5.58</td><td>⋯</td><td>6.99</td><td>6.16</td><td>13.27</td><td>19.33</td><td>2.89</td><td>40.13</td><td>10.53</td><td>9.00</td><td> 4.45</td><td>11.42</td></tr>\n",
       "</tbody>\n",
       "</table>\n"
      ],
      "text/latex": [
       "A data.frame: 6 × 61\n",
       "\\begin{tabular}{r|lllllllllllllllllllll}\n",
       "  & X & CA.102548 & CA.104338 & CA.105094 & CA.109745 & CA.1906415 & CA.1912627 & CA.1924346 & CA.1926760 & CA.1927842 & ⋯ & CAP.2040686 & CAP.2046297 & CAP.2046641 & CAP.348981 & CAP.354300 & CAP.359448 & CAP.94377 & CAP.98389 & CAP.98475 & CAP.99145\\\\\n",
       "  & <chr> & <dbl> & <dbl> & <dbl> & <dbl> & <dbl> & <dbl> & <dbl> & <dbl> & <dbl> & ⋯ & <dbl> & <dbl> & <dbl> & <dbl> & <dbl> & <dbl> & <dbl> & <dbl> & <dbl> & <dbl>\\\\\n",
       "\\hline\n",
       "\t1 & TSPAN6   & 0.93 & 1.97 & 0.00 & 5.45 &  4.52 &  4.75 &  3.96 &  3.58 & 6.41 & ⋯ & 6.66 & 8.35 &  8.94 &  6.33 & 5.94 &  6.35 &  3.74 & 4.84 & 10.46 &  4.54\\\\\n",
       "\t2 & TNMD     & 0.00 & 0.00 & 0.00 & 0.00 &  0.00 &  0.00 &  0.00 &  0.23 & 0.39 & ⋯ & 0.12 & 0.17 &  1.08 &  0.29 & 0.00 &  0.07 &  9.19 & 1.18 &  0.09 &  0.39\\\\\n",
       "\t3 & DPM1     & 0.00 & 0.43 & 0.00 & 3.43 &  8.45 &  8.53 &  7.80 &  7.62 & 6.40 & ⋯ & 4.93 & 7.47 &  5.72 &  4.96 & 9.28 &  9.15 &  4.77 & 3.75 &  7.31 &  2.77\\\\\n",
       "\t4 & SCYL3    & 5.78 & 5.17 & 8.76 & 4.58 &  7.20 &  6.03 &  9.05 &  5.37 & 5.92 & ⋯ & 8.02 & 6.00 &  5.28 &  4.98 & 4.45 &  7.00 &  4.14 & 5.51 &  7.45 &  2.33\\\\\n",
       "\t5 & C1orf112 & 2.83 & 6.26 & 3.37 & 6.24 &  5.16 & 13.69 &  6.69 &  5.28 & 7.65 & ⋯ & 7.91 & 4.61 &  8.35 &  9.84 & 7.68 &  5.62 &  2.81 & 7.08 &  7.28 &  5.39\\\\\n",
       "\t6 & FGR      & 4.80 & 1.83 & 0.00 & 4.23 & 15.87 &  8.56 & 13.28 & 12.27 & 5.58 & ⋯ & 6.99 & 6.16 & 13.27 & 19.33 & 2.89 & 40.13 & 10.53 & 9.00 &  4.45 & 11.42\\\\\n",
       "\\end{tabular}\n"
      ],
      "text/markdown": [
       "\n",
       "A data.frame: 6 × 61\n",
       "\n",
       "| <!--/--> | X &lt;chr&gt; | CA.102548 &lt;dbl&gt; | CA.104338 &lt;dbl&gt; | CA.105094 &lt;dbl&gt; | CA.109745 &lt;dbl&gt; | CA.1906415 &lt;dbl&gt; | CA.1912627 &lt;dbl&gt; | CA.1924346 &lt;dbl&gt; | CA.1926760 &lt;dbl&gt; | CA.1927842 &lt;dbl&gt; | ⋯ ⋯ | CAP.2040686 &lt;dbl&gt; | CAP.2046297 &lt;dbl&gt; | CAP.2046641 &lt;dbl&gt; | CAP.348981 &lt;dbl&gt; | CAP.354300 &lt;dbl&gt; | CAP.359448 &lt;dbl&gt; | CAP.94377 &lt;dbl&gt; | CAP.98389 &lt;dbl&gt; | CAP.98475 &lt;dbl&gt; | CAP.99145 &lt;dbl&gt; |\n",
       "|---|---|---|---|---|---|---|---|---|---|---|---|---|---|---|---|---|---|---|---|---|---|\n",
       "| 1 | TSPAN6   | 0.93 | 1.97 | 0.00 | 5.45 |  4.52 |  4.75 |  3.96 |  3.58 | 6.41 | ⋯ | 6.66 | 8.35 |  8.94 |  6.33 | 5.94 |  6.35 |  3.74 | 4.84 | 10.46 |  4.54 |\n",
       "| 2 | TNMD     | 0.00 | 0.00 | 0.00 | 0.00 |  0.00 |  0.00 |  0.00 |  0.23 | 0.39 | ⋯ | 0.12 | 0.17 |  1.08 |  0.29 | 0.00 |  0.07 |  9.19 | 1.18 |  0.09 |  0.39 |\n",
       "| 3 | DPM1     | 0.00 | 0.43 | 0.00 | 3.43 |  8.45 |  8.53 |  7.80 |  7.62 | 6.40 | ⋯ | 4.93 | 7.47 |  5.72 |  4.96 | 9.28 |  9.15 |  4.77 | 3.75 |  7.31 |  2.77 |\n",
       "| 4 | SCYL3    | 5.78 | 5.17 | 8.76 | 4.58 |  7.20 |  6.03 |  9.05 |  5.37 | 5.92 | ⋯ | 8.02 | 6.00 |  5.28 |  4.98 | 4.45 |  7.00 |  4.14 | 5.51 |  7.45 |  2.33 |\n",
       "| 5 | C1orf112 | 2.83 | 6.26 | 3.37 | 6.24 |  5.16 | 13.69 |  6.69 |  5.28 | 7.65 | ⋯ | 7.91 | 4.61 |  8.35 |  9.84 | 7.68 |  5.62 |  2.81 | 7.08 |  7.28 |  5.39 |\n",
       "| 6 | FGR      | 4.80 | 1.83 | 0.00 | 4.23 | 15.87 |  8.56 | 13.28 | 12.27 | 5.58 | ⋯ | 6.99 | 6.16 | 13.27 | 19.33 | 2.89 | 40.13 | 10.53 | 9.00 |  4.45 | 11.42 |\n",
       "\n"
      ],
      "text/plain": [
       "  X        CA.102548 CA.104338 CA.105094 CA.109745 CA.1906415 CA.1912627\n",
       "1 TSPAN6   0.93      1.97      0.00      5.45       4.52       4.75     \n",
       "2 TNMD     0.00      0.00      0.00      0.00       0.00       0.00     \n",
       "3 DPM1     0.00      0.43      0.00      3.43       8.45       8.53     \n",
       "4 SCYL3    5.78      5.17      8.76      4.58       7.20       6.03     \n",
       "5 C1orf112 2.83      6.26      3.37      6.24       5.16      13.69     \n",
       "6 FGR      4.80      1.83      0.00      4.23      15.87       8.56     \n",
       "  CA.1924346 CA.1926760 CA.1927842 ⋯ CAP.2040686 CAP.2046297 CAP.2046641\n",
       "1  3.96       3.58      6.41       ⋯ 6.66        8.35         8.94      \n",
       "2  0.00       0.23      0.39       ⋯ 0.12        0.17         1.08      \n",
       "3  7.80       7.62      6.40       ⋯ 4.93        7.47         5.72      \n",
       "4  9.05       5.37      5.92       ⋯ 8.02        6.00         5.28      \n",
       "5  6.69       5.28      7.65       ⋯ 7.91        4.61         8.35      \n",
       "6 13.28      12.27      5.58       ⋯ 6.99        6.16        13.27      \n",
       "  CAP.348981 CAP.354300 CAP.359448 CAP.94377 CAP.98389 CAP.98475 CAP.99145\n",
       "1  6.33      5.94        6.35       3.74     4.84      10.46      4.54    \n",
       "2  0.29      0.00        0.07       9.19     1.18       0.09      0.39    \n",
       "3  4.96      9.28        9.15       4.77     3.75       7.31      2.77    \n",
       "4  4.98      4.45        7.00       4.14     5.51       7.45      2.33    \n",
       "5  9.84      7.68        5.62       2.81     7.08       7.28      5.39    \n",
       "6 19.33      2.89       40.13      10.53     9.00       4.45     11.42    "
      ]
     },
     "metadata": {},
     "output_type": "display_data"
    }
   ],
   "source": [
    "head(dat)"
   ]
  },
  {
   "attachments": {},
   "cell_type": "markdown",
   "metadata": {},
   "source": [
    "The feature count data is a pivot table whose x-axis is genes and y-axis is sample ID. \n",
    "\n",
    "For detail understanding of the data we should need the meta data i.e sampleNames, expirement data, metatatsis etc. "
   ]
  },
  {
   "cell_type": "code",
   "execution_count": 5,
   "metadata": {
    "vscode": {
     "languageId": "r"
    }
   },
   "outputs": [
    {
     "name": "stderr",
     "output_type": "stream",
     "text": [
      "Found 1 file(s)\n",
      "\n",
      "GSE183947_series_matrix.txt.gz\n",
      "\n"
     ]
    }
   ],
   "source": [
    "# get metadata --------\n",
    "gse <- getGEO(GEO = 'GSE183947', GSEMatrix = TRUE)\n",
    "# Error: The size of the connection buffer (131072) was not large enough                                          0s\n",
    "# to fit a complete line:\n",
    "#   * Increase it by setting `Sys.setenv(\"VROOM_CONNECTION_SIZE\")`\n",
    "Sys.setenv(\"VROOM_CONNECTION_SIZE\" = 131072 * 1000)"
   ]
  },
  {
   "cell_type": "code",
   "execution_count": 6,
   "metadata": {
    "vscode": {
     "languageId": "r"
    }
   },
   "outputs": [
    {
     "data": {
      "text/plain": [
       "$GSE183947_series_matrix.txt.gz\n",
       "ExpressionSet (storageMode: lockedEnvironment)\n",
       "assayData: 0 features, 60 samples \n",
       "  element names: exprs \n",
       "protocolData: none\n",
       "phenoData\n",
       "  sampleNames: GSM5574685 GSM5574686 ... GSM5574744 (60 total)\n",
       "  varLabels: title geo_accession ... tissue:ch1 (41 total)\n",
       "  varMetadata: labelDescription\n",
       "featureData: none\n",
       "experimentData: use 'experimentData(object)'\n",
       "  pubMedIds: 35046993 \n",
       "Annotation: GPL11154 \n"
      ]
     },
     "metadata": {},
     "output_type": "display_data"
    }
   ],
   "source": [
    "gse\n"
   ]
  },
  {
   "cell_type": "code",
   "execution_count": 7,
   "metadata": {
    "vscode": {
     "languageId": "r"
    }
   },
   "outputs": [
    {
     "data": {
      "text/plain": [
       "ExpressionSet (storageMode: lockedEnvironment)\n",
       "assayData: 0 features, 60 samples \n",
       "  element names: exprs \n",
       "protocolData: none\n",
       "phenoData\n",
       "  sampleNames: GSM5574685 GSM5574686 ... GSM5574744 (60 total)\n",
       "  varLabels: title geo_accession ... tissue:ch1 (41 total)\n",
       "  varMetadata: labelDescription\n",
       "featureData: none\n",
       "experimentData: use 'experimentData(object)'\n",
       "  pubMedIds: 35046993 \n",
       "Annotation: GPL11154 "
      ]
     },
     "metadata": {},
     "output_type": "display_data"
    }
   ],
   "source": [
    "gse[[1]]\n",
    "## this is phenotype data object, now we need to retirve the information"
   ]
  },
  {
   "cell_type": "code",
   "execution_count": 8,
   "metadata": {
    "vscode": {
     "languageId": "r"
    }
   },
   "outputs": [
    {
     "data": {
      "text/plain": [
       "An object of class 'AnnotatedDataFrame'\n",
       "  sampleNames: GSM5574685 GSM5574686 ... GSM5574744 (60 total)\n",
       "  varLabels: title geo_accession ... tissue:ch1 (41 total)\n",
       "  varMetadata: labelDescription"
      ]
     },
     "metadata": {},
     "output_type": "display_data"
    }
   ],
   "source": [
    "phenoData(gse[[1]])"
   ]
  },
  {
   "cell_type": "code",
   "execution_count": 9,
   "metadata": {
    "vscode": {
     "languageId": "r"
    }
   },
   "outputs": [
    {
     "data": {
      "text/html": [
       "'S4'"
      ],
      "text/latex": [
       "'S4'"
      ],
      "text/markdown": [
       "'S4'"
      ],
      "text/plain": [
       "[1] \"S4\""
      ]
     },
     "metadata": {},
     "output_type": "display_data"
    }
   ],
   "source": [
    "typeof(phenoData(gse[[1]]))"
   ]
  },
  {
   "attachments": {},
   "cell_type": "markdown",
   "metadata": {},
   "source": [
    "As we have this phenotype data, which in an S4 object class let's convert it into data frame and save in a variable"
   ]
  },
  {
   "cell_type": "code",
   "execution_count": 10,
   "metadata": {
    "vscode": {
     "languageId": "r"
    }
   },
   "outputs": [
    {
     "data": {
      "text/html": [
       "<table class=\"dataframe\">\n",
       "<caption>A data.frame: 6 × 41</caption>\n",
       "<thead>\n",
       "\t<tr><th></th><th scope=col>title</th><th scope=col>geo_accession</th><th scope=col>status</th><th scope=col>submission_date</th><th scope=col>last_update_date</th><th scope=col>type</th><th scope=col>channel_count</th><th scope=col>source_name_ch1</th><th scope=col>organism_ch1</th><th scope=col>characteristics_ch1</th><th scope=col>⋯</th><th scope=col>instrument_model</th><th scope=col>library_selection</th><th scope=col>library_source</th><th scope=col>library_strategy</th><th scope=col>relation</th><th scope=col>relation.1</th><th scope=col>supplementary_file_1</th><th scope=col>donor:ch1</th><th scope=col>metastasis:ch1</th><th scope=col>tissue:ch1</th></tr>\n",
       "\t<tr><th></th><th scope=col>&lt;chr&gt;</th><th scope=col>&lt;chr&gt;</th><th scope=col>&lt;chr&gt;</th><th scope=col>&lt;chr&gt;</th><th scope=col>&lt;chr&gt;</th><th scope=col>&lt;chr&gt;</th><th scope=col>&lt;chr&gt;</th><th scope=col>&lt;chr&gt;</th><th scope=col>&lt;chr&gt;</th><th scope=col>&lt;chr&gt;</th><th scope=col>⋯</th><th scope=col>&lt;chr&gt;</th><th scope=col>&lt;chr&gt;</th><th scope=col>&lt;chr&gt;</th><th scope=col>&lt;chr&gt;</th><th scope=col>&lt;chr&gt;</th><th scope=col>&lt;chr&gt;</th><th scope=col>&lt;chr&gt;</th><th scope=col>&lt;chr&gt;</th><th scope=col>&lt;chr&gt;</th><th scope=col>&lt;chr&gt;</th></tr>\n",
       "</thead>\n",
       "<tbody>\n",
       "\t<tr><th scope=row>GSM5574685</th><td>tumor rep1</td><td>GSM5574685</td><td>Public on Sep 15 2021</td><td>Sep 11 2021</td><td>Sep 15 2021</td><td>SRA</td><td>1</td><td>breast</td><td>Homo sapiens</td><td>tissue: breast tumor</td><td>⋯</td><td>Illumina HiSeq 2000</td><td>cDNA</td><td>transcriptomic</td><td>RNA-Seq</td><td>BioSample: https://www.ncbi.nlm.nih.gov/biosample/SAMN21395376</td><td>SRA: https://www.ncbi.nlm.nih.gov/sra?term=SRX12143676</td><td>NONE</td><td>102548 </td><td>yes</td><td>breast tumor</td></tr>\n",
       "\t<tr><th scope=row>GSM5574686</th><td>tumor rep2</td><td>GSM5574686</td><td>Public on Sep 15 2021</td><td>Sep 11 2021</td><td>Sep 15 2021</td><td>SRA</td><td>1</td><td>breast</td><td>Homo sapiens</td><td>tissue: breast tumor</td><td>⋯</td><td>Illumina HiSeq 2000</td><td>cDNA</td><td>transcriptomic</td><td>RNA-Seq</td><td>BioSample: https://www.ncbi.nlm.nih.gov/biosample/SAMN21395377</td><td>SRA: https://www.ncbi.nlm.nih.gov/sra?term=SRX12143617</td><td>NONE</td><td>104338 </td><td>yes</td><td>breast tumor</td></tr>\n",
       "\t<tr><th scope=row>GSM5574687</th><td>tumor rep3</td><td>GSM5574687</td><td>Public on Sep 15 2021</td><td>Sep 11 2021</td><td>Sep 15 2021</td><td>SRA</td><td>1</td><td>breast</td><td>Homo sapiens</td><td>tissue: breast tumor</td><td>⋯</td><td>Illumina HiSeq 2000</td><td>cDNA</td><td>transcriptomic</td><td>RNA-Seq</td><td>BioSample: https://www.ncbi.nlm.nih.gov/biosample/SAMN21395378</td><td>SRA: https://www.ncbi.nlm.nih.gov/sra?term=SRX12143618</td><td>NONE</td><td>105094 </td><td>yes</td><td>breast tumor</td></tr>\n",
       "\t<tr><th scope=row>GSM5574688</th><td>tumor rep4</td><td>GSM5574688</td><td>Public on Sep 15 2021</td><td>Sep 11 2021</td><td>Sep 15 2021</td><td>SRA</td><td>1</td><td>breast</td><td>Homo sapiens</td><td>tissue: breast tumor</td><td>⋯</td><td>Illumina HiSeq 2000</td><td>cDNA</td><td>transcriptomic</td><td>RNA-Seq</td><td>BioSample: https://www.ncbi.nlm.nih.gov/biosample/SAMN21395379</td><td>SRA: https://www.ncbi.nlm.nih.gov/sra?term=SRX12143619</td><td>NONE</td><td>109745 </td><td>no </td><td>breast tumor</td></tr>\n",
       "\t<tr><th scope=row>GSM5574689</th><td>tumor rep5</td><td>GSM5574689</td><td>Public on Sep 15 2021</td><td>Sep 11 2021</td><td>Sep 15 2021</td><td>SRA</td><td>1</td><td>breast</td><td>Homo sapiens</td><td>tissue: breast tumor</td><td>⋯</td><td>Illumina HiSeq 2000</td><td>cDNA</td><td>transcriptomic</td><td>RNA-Seq</td><td>BioSample: https://www.ncbi.nlm.nih.gov/biosample/SAMN21394912</td><td>SRA: https://www.ncbi.nlm.nih.gov/sra?term=SRX12143620</td><td>NONE</td><td>1906415</td><td>no </td><td>breast tumor</td></tr>\n",
       "\t<tr><th scope=row>GSM5574690</th><td>tumor rep6</td><td>GSM5574690</td><td>Public on Sep 15 2021</td><td>Sep 11 2021</td><td>Sep 15 2021</td><td>SRA</td><td>1</td><td>breast</td><td>Homo sapiens</td><td>tissue: breast tumor</td><td>⋯</td><td>Illumina HiSeq 2000</td><td>cDNA</td><td>transcriptomic</td><td>RNA-Seq</td><td>BioSample: https://www.ncbi.nlm.nih.gov/biosample/SAMN21394913</td><td>SRA: https://www.ncbi.nlm.nih.gov/sra?term=SRX12143621</td><td>NONE</td><td>1912627</td><td>yes</td><td>breast tumor</td></tr>\n",
       "</tbody>\n",
       "</table>\n"
      ],
      "text/latex": [
       "A data.frame: 6 × 41\n",
       "\\begin{tabular}{r|lllllllllllllllllllll}\n",
       "  & title & geo\\_accession & status & submission\\_date & last\\_update\\_date & type & channel\\_count & source\\_name\\_ch1 & organism\\_ch1 & characteristics\\_ch1 & ⋯ & instrument\\_model & library\\_selection & library\\_source & library\\_strategy & relation & relation.1 & supplementary\\_file\\_1 & donor:ch1 & metastasis:ch1 & tissue:ch1\\\\\n",
       "  & <chr> & <chr> & <chr> & <chr> & <chr> & <chr> & <chr> & <chr> & <chr> & <chr> & ⋯ & <chr> & <chr> & <chr> & <chr> & <chr> & <chr> & <chr> & <chr> & <chr> & <chr>\\\\\n",
       "\\hline\n",
       "\tGSM5574685 & tumor rep1 & GSM5574685 & Public on Sep 15 2021 & Sep 11 2021 & Sep 15 2021 & SRA & 1 & breast & Homo sapiens & tissue: breast tumor & ⋯ & Illumina HiSeq 2000 & cDNA & transcriptomic & RNA-Seq & BioSample: https://www.ncbi.nlm.nih.gov/biosample/SAMN21395376 & SRA: https://www.ncbi.nlm.nih.gov/sra?term=SRX12143676 & NONE & 102548  & yes & breast tumor\\\\\n",
       "\tGSM5574686 & tumor rep2 & GSM5574686 & Public on Sep 15 2021 & Sep 11 2021 & Sep 15 2021 & SRA & 1 & breast & Homo sapiens & tissue: breast tumor & ⋯ & Illumina HiSeq 2000 & cDNA & transcriptomic & RNA-Seq & BioSample: https://www.ncbi.nlm.nih.gov/biosample/SAMN21395377 & SRA: https://www.ncbi.nlm.nih.gov/sra?term=SRX12143617 & NONE & 104338  & yes & breast tumor\\\\\n",
       "\tGSM5574687 & tumor rep3 & GSM5574687 & Public on Sep 15 2021 & Sep 11 2021 & Sep 15 2021 & SRA & 1 & breast & Homo sapiens & tissue: breast tumor & ⋯ & Illumina HiSeq 2000 & cDNA & transcriptomic & RNA-Seq & BioSample: https://www.ncbi.nlm.nih.gov/biosample/SAMN21395378 & SRA: https://www.ncbi.nlm.nih.gov/sra?term=SRX12143618 & NONE & 105094  & yes & breast tumor\\\\\n",
       "\tGSM5574688 & tumor rep4 & GSM5574688 & Public on Sep 15 2021 & Sep 11 2021 & Sep 15 2021 & SRA & 1 & breast & Homo sapiens & tissue: breast tumor & ⋯ & Illumina HiSeq 2000 & cDNA & transcriptomic & RNA-Seq & BioSample: https://www.ncbi.nlm.nih.gov/biosample/SAMN21395379 & SRA: https://www.ncbi.nlm.nih.gov/sra?term=SRX12143619 & NONE & 109745  & no  & breast tumor\\\\\n",
       "\tGSM5574689 & tumor rep5 & GSM5574689 & Public on Sep 15 2021 & Sep 11 2021 & Sep 15 2021 & SRA & 1 & breast & Homo sapiens & tissue: breast tumor & ⋯ & Illumina HiSeq 2000 & cDNA & transcriptomic & RNA-Seq & BioSample: https://www.ncbi.nlm.nih.gov/biosample/SAMN21394912 & SRA: https://www.ncbi.nlm.nih.gov/sra?term=SRX12143620 & NONE & 1906415 & no  & breast tumor\\\\\n",
       "\tGSM5574690 & tumor rep6 & GSM5574690 & Public on Sep 15 2021 & Sep 11 2021 & Sep 15 2021 & SRA & 1 & breast & Homo sapiens & tissue: breast tumor & ⋯ & Illumina HiSeq 2000 & cDNA & transcriptomic & RNA-Seq & BioSample: https://www.ncbi.nlm.nih.gov/biosample/SAMN21394913 & SRA: https://www.ncbi.nlm.nih.gov/sra?term=SRX12143621 & NONE & 1912627 & yes & breast tumor\\\\\n",
       "\\end{tabular}\n"
      ],
      "text/markdown": [
       "\n",
       "A data.frame: 6 × 41\n",
       "\n",
       "| <!--/--> | title &lt;chr&gt; | geo_accession &lt;chr&gt; | status &lt;chr&gt; | submission_date &lt;chr&gt; | last_update_date &lt;chr&gt; | type &lt;chr&gt; | channel_count &lt;chr&gt; | source_name_ch1 &lt;chr&gt; | organism_ch1 &lt;chr&gt; | characteristics_ch1 &lt;chr&gt; | ⋯ ⋯ | instrument_model &lt;chr&gt; | library_selection &lt;chr&gt; | library_source &lt;chr&gt; | library_strategy &lt;chr&gt; | relation &lt;chr&gt; | relation.1 &lt;chr&gt; | supplementary_file_1 &lt;chr&gt; | donor:ch1 &lt;chr&gt; | metastasis:ch1 &lt;chr&gt; | tissue:ch1 &lt;chr&gt; |\n",
       "|---|---|---|---|---|---|---|---|---|---|---|---|---|---|---|---|---|---|---|---|---|---|\n",
       "| GSM5574685 | tumor rep1 | GSM5574685 | Public on Sep 15 2021 | Sep 11 2021 | Sep 15 2021 | SRA | 1 | breast | Homo sapiens | tissue: breast tumor | ⋯ | Illumina HiSeq 2000 | cDNA | transcriptomic | RNA-Seq | BioSample: https://www.ncbi.nlm.nih.gov/biosample/SAMN21395376 | SRA: https://www.ncbi.nlm.nih.gov/sra?term=SRX12143676 | NONE | 102548  | yes | breast tumor |\n",
       "| GSM5574686 | tumor rep2 | GSM5574686 | Public on Sep 15 2021 | Sep 11 2021 | Sep 15 2021 | SRA | 1 | breast | Homo sapiens | tissue: breast tumor | ⋯ | Illumina HiSeq 2000 | cDNA | transcriptomic | RNA-Seq | BioSample: https://www.ncbi.nlm.nih.gov/biosample/SAMN21395377 | SRA: https://www.ncbi.nlm.nih.gov/sra?term=SRX12143617 | NONE | 104338  | yes | breast tumor |\n",
       "| GSM5574687 | tumor rep3 | GSM5574687 | Public on Sep 15 2021 | Sep 11 2021 | Sep 15 2021 | SRA | 1 | breast | Homo sapiens | tissue: breast tumor | ⋯ | Illumina HiSeq 2000 | cDNA | transcriptomic | RNA-Seq | BioSample: https://www.ncbi.nlm.nih.gov/biosample/SAMN21395378 | SRA: https://www.ncbi.nlm.nih.gov/sra?term=SRX12143618 | NONE | 105094  | yes | breast tumor |\n",
       "| GSM5574688 | tumor rep4 | GSM5574688 | Public on Sep 15 2021 | Sep 11 2021 | Sep 15 2021 | SRA | 1 | breast | Homo sapiens | tissue: breast tumor | ⋯ | Illumina HiSeq 2000 | cDNA | transcriptomic | RNA-Seq | BioSample: https://www.ncbi.nlm.nih.gov/biosample/SAMN21395379 | SRA: https://www.ncbi.nlm.nih.gov/sra?term=SRX12143619 | NONE | 109745  | no  | breast tumor |\n",
       "| GSM5574689 | tumor rep5 | GSM5574689 | Public on Sep 15 2021 | Sep 11 2021 | Sep 15 2021 | SRA | 1 | breast | Homo sapiens | tissue: breast tumor | ⋯ | Illumina HiSeq 2000 | cDNA | transcriptomic | RNA-Seq | BioSample: https://www.ncbi.nlm.nih.gov/biosample/SAMN21394912 | SRA: https://www.ncbi.nlm.nih.gov/sra?term=SRX12143620 | NONE | 1906415 | no  | breast tumor |\n",
       "| GSM5574690 | tumor rep6 | GSM5574690 | Public on Sep 15 2021 | Sep 11 2021 | Sep 15 2021 | SRA | 1 | breast | Homo sapiens | tissue: breast tumor | ⋯ | Illumina HiSeq 2000 | cDNA | transcriptomic | RNA-Seq | BioSample: https://www.ncbi.nlm.nih.gov/biosample/SAMN21394913 | SRA: https://www.ncbi.nlm.nih.gov/sra?term=SRX12143621 | NONE | 1912627 | yes | breast tumor |\n",
       "\n"
      ],
      "text/plain": [
       "           title      geo_accession status                submission_date\n",
       "GSM5574685 tumor rep1 GSM5574685    Public on Sep 15 2021 Sep 11 2021    \n",
       "GSM5574686 tumor rep2 GSM5574686    Public on Sep 15 2021 Sep 11 2021    \n",
       "GSM5574687 tumor rep3 GSM5574687    Public on Sep 15 2021 Sep 11 2021    \n",
       "GSM5574688 tumor rep4 GSM5574688    Public on Sep 15 2021 Sep 11 2021    \n",
       "GSM5574689 tumor rep5 GSM5574689    Public on Sep 15 2021 Sep 11 2021    \n",
       "GSM5574690 tumor rep6 GSM5574690    Public on Sep 15 2021 Sep 11 2021    \n",
       "           last_update_date type channel_count source_name_ch1 organism_ch1\n",
       "GSM5574685 Sep 15 2021      SRA  1             breast          Homo sapiens\n",
       "GSM5574686 Sep 15 2021      SRA  1             breast          Homo sapiens\n",
       "GSM5574687 Sep 15 2021      SRA  1             breast          Homo sapiens\n",
       "GSM5574688 Sep 15 2021      SRA  1             breast          Homo sapiens\n",
       "GSM5574689 Sep 15 2021      SRA  1             breast          Homo sapiens\n",
       "GSM5574690 Sep 15 2021      SRA  1             breast          Homo sapiens\n",
       "           characteristics_ch1  ⋯ instrument_model    library_selection\n",
       "GSM5574685 tissue: breast tumor ⋯ Illumina HiSeq 2000 cDNA             \n",
       "GSM5574686 tissue: breast tumor ⋯ Illumina HiSeq 2000 cDNA             \n",
       "GSM5574687 tissue: breast tumor ⋯ Illumina HiSeq 2000 cDNA             \n",
       "GSM5574688 tissue: breast tumor ⋯ Illumina HiSeq 2000 cDNA             \n",
       "GSM5574689 tissue: breast tumor ⋯ Illumina HiSeq 2000 cDNA             \n",
       "GSM5574690 tissue: breast tumor ⋯ Illumina HiSeq 2000 cDNA             \n",
       "           library_source library_strategy\n",
       "GSM5574685 transcriptomic RNA-Seq         \n",
       "GSM5574686 transcriptomic RNA-Seq         \n",
       "GSM5574687 transcriptomic RNA-Seq         \n",
       "GSM5574688 transcriptomic RNA-Seq         \n",
       "GSM5574689 transcriptomic RNA-Seq         \n",
       "GSM5574690 transcriptomic RNA-Seq         \n",
       "           relation                                                      \n",
       "GSM5574685 BioSample: https://www.ncbi.nlm.nih.gov/biosample/SAMN21395376\n",
       "GSM5574686 BioSample: https://www.ncbi.nlm.nih.gov/biosample/SAMN21395377\n",
       "GSM5574687 BioSample: https://www.ncbi.nlm.nih.gov/biosample/SAMN21395378\n",
       "GSM5574688 BioSample: https://www.ncbi.nlm.nih.gov/biosample/SAMN21395379\n",
       "GSM5574689 BioSample: https://www.ncbi.nlm.nih.gov/biosample/SAMN21394912\n",
       "GSM5574690 BioSample: https://www.ncbi.nlm.nih.gov/biosample/SAMN21394913\n",
       "           relation.1                                            \n",
       "GSM5574685 SRA: https://www.ncbi.nlm.nih.gov/sra?term=SRX12143676\n",
       "GSM5574686 SRA: https://www.ncbi.nlm.nih.gov/sra?term=SRX12143617\n",
       "GSM5574687 SRA: https://www.ncbi.nlm.nih.gov/sra?term=SRX12143618\n",
       "GSM5574688 SRA: https://www.ncbi.nlm.nih.gov/sra?term=SRX12143619\n",
       "GSM5574689 SRA: https://www.ncbi.nlm.nih.gov/sra?term=SRX12143620\n",
       "GSM5574690 SRA: https://www.ncbi.nlm.nih.gov/sra?term=SRX12143621\n",
       "           supplementary_file_1 donor:ch1 metastasis:ch1 tissue:ch1  \n",
       "GSM5574685 NONE                 102548    yes            breast tumor\n",
       "GSM5574686 NONE                 104338    yes            breast tumor\n",
       "GSM5574687 NONE                 105094    yes            breast tumor\n",
       "GSM5574688 NONE                 109745    no             breast tumor\n",
       "GSM5574689 NONE                 1906415   no             breast tumor\n",
       "GSM5574690 NONE                 1912627   yes            breast tumor"
      ]
     },
     "metadata": {},
     "output_type": "display_data"
    }
   ],
   "source": [
    "metadata <- pData(phenoData(gse[[1]]))\n",
    "head(metadata)\n"
   ]
  },
  {
   "cell_type": "code",
   "execution_count": 11,
   "metadata": {
    "vscode": {
     "languageId": "r"
    }
   },
   "outputs": [
    {
     "data": {
      "text/html": [
       "<style>\n",
       ".list-inline {list-style: none; margin:0; padding: 0}\n",
       ".list-inline>li {display: inline-block}\n",
       ".list-inline>li:not(:last-child)::after {content: \"\\00b7\"; padding: 0 .5ex}\n",
       "</style>\n",
       "<ol class=list-inline><li>60</li><li>41</li></ol>\n"
      ],
      "text/latex": [
       "\\begin{enumerate*}\n",
       "\\item 60\n",
       "\\item 41\n",
       "\\end{enumerate*}\n"
      ],
      "text/markdown": [
       "1. 60\n",
       "2. 41\n",
       "\n",
       "\n"
      ],
      "text/plain": [
       "[1] 60 41"
      ]
     },
     "metadata": {},
     "output_type": "display_data"
    }
   ],
   "source": [
    "dim(metadata)"
   ]
  },
  {
   "cell_type": "code",
   "execution_count": 12,
   "metadata": {
    "vscode": {
     "languageId": "r"
    }
   },
   "outputs": [
    {
     "data": {
      "text/html": [
       "<table class=\"dataframe\">\n",
       "<caption>A data.frame: 6 × 4</caption>\n",
       "<thead>\n",
       "\t<tr><th></th><th scope=col>title</th><th scope=col>characteristics_ch1</th><th scope=col>characteristics_ch1.1</th><th scope=col>description</th></tr>\n",
       "\t<tr><th></th><th scope=col>&lt;chr&gt;</th><th scope=col>&lt;chr&gt;</th><th scope=col>&lt;chr&gt;</th><th scope=col>&lt;chr&gt;</th></tr>\n",
       "</thead>\n",
       "<tbody>\n",
       "\t<tr><th scope=row>GSM5574685</th><td>tumor rep1</td><td>tissue: breast tumor</td><td>metastasis: yes</td><td>CA.102548 </td></tr>\n",
       "\t<tr><th scope=row>GSM5574686</th><td>tumor rep2</td><td>tissue: breast tumor</td><td>metastasis: yes</td><td>CA.104338 </td></tr>\n",
       "\t<tr><th scope=row>GSM5574687</th><td>tumor rep3</td><td>tissue: breast tumor</td><td>metastasis: yes</td><td>CA.105094 </td></tr>\n",
       "\t<tr><th scope=row>GSM5574688</th><td>tumor rep4</td><td>tissue: breast tumor</td><td>metastasis: no </td><td>CA.109745 </td></tr>\n",
       "\t<tr><th scope=row>GSM5574689</th><td>tumor rep5</td><td>tissue: breast tumor</td><td>metastasis: no </td><td>CA.1906415</td></tr>\n",
       "\t<tr><th scope=row>GSM5574690</th><td>tumor rep6</td><td>tissue: breast tumor</td><td>metastasis: yes</td><td>CA.1912627</td></tr>\n",
       "</tbody>\n",
       "</table>\n"
      ],
      "text/latex": [
       "A data.frame: 6 × 4\n",
       "\\begin{tabular}{r|llll}\n",
       "  & title & characteristics\\_ch1 & characteristics\\_ch1.1 & description\\\\\n",
       "  & <chr> & <chr> & <chr> & <chr>\\\\\n",
       "\\hline\n",
       "\tGSM5574685 & tumor rep1 & tissue: breast tumor & metastasis: yes & CA.102548 \\\\\n",
       "\tGSM5574686 & tumor rep2 & tissue: breast tumor & metastasis: yes & CA.104338 \\\\\n",
       "\tGSM5574687 & tumor rep3 & tissue: breast tumor & metastasis: yes & CA.105094 \\\\\n",
       "\tGSM5574688 & tumor rep4 & tissue: breast tumor & metastasis: no  & CA.109745 \\\\\n",
       "\tGSM5574689 & tumor rep5 & tissue: breast tumor & metastasis: no  & CA.1906415\\\\\n",
       "\tGSM5574690 & tumor rep6 & tissue: breast tumor & metastasis: yes & CA.1912627\\\\\n",
       "\\end{tabular}\n"
      ],
      "text/markdown": [
       "\n",
       "A data.frame: 6 × 4\n",
       "\n",
       "| <!--/--> | title &lt;chr&gt; | characteristics_ch1 &lt;chr&gt; | characteristics_ch1.1 &lt;chr&gt; | description &lt;chr&gt; |\n",
       "|---|---|---|---|---|\n",
       "| GSM5574685 | tumor rep1 | tissue: breast tumor | metastasis: yes | CA.102548  |\n",
       "| GSM5574686 | tumor rep2 | tissue: breast tumor | metastasis: yes | CA.104338  |\n",
       "| GSM5574687 | tumor rep3 | tissue: breast tumor | metastasis: yes | CA.105094  |\n",
       "| GSM5574688 | tumor rep4 | tissue: breast tumor | metastasis: no  | CA.109745  |\n",
       "| GSM5574689 | tumor rep5 | tissue: breast tumor | metastasis: no  | CA.1906415 |\n",
       "| GSM5574690 | tumor rep6 | tissue: breast tumor | metastasis: yes | CA.1912627 |\n",
       "\n"
      ],
      "text/plain": [
       "           title      characteristics_ch1  characteristics_ch1.1 description\n",
       "GSM5574685 tumor rep1 tissue: breast tumor metastasis: yes       CA.102548  \n",
       "GSM5574686 tumor rep2 tissue: breast tumor metastasis: yes       CA.104338  \n",
       "GSM5574687 tumor rep3 tissue: breast tumor metastasis: yes       CA.105094  \n",
       "GSM5574688 tumor rep4 tissue: breast tumor metastasis: no        CA.109745  \n",
       "GSM5574689 tumor rep5 tissue: breast tumor metastasis: no        CA.1906415 \n",
       "GSM5574690 tumor rep6 tissue: breast tumor metastasis: yes       CA.1912627 "
      ]
     },
     "metadata": {},
     "output_type": "display_data"
    }
   ],
   "source": [
    "head(metadata[ ,c(1,10,11,17)])"
   ]
  },
  {
   "attachments": {},
   "cell_type": "markdown",
   "metadata": {},
   "source": [
    "Among 41 columns, we need two cloumn's meta data infor i.e characteristics_ch1 and characteristics_ch1.1"
   ]
  },
  {
   "cell_type": "code",
   "execution_count": null,
   "metadata": {
    "vscode": {
     "languageId": "r"
    }
   },
   "outputs": [],
   "source": []
  },
  {
   "cell_type": "code",
   "execution_count": 13,
   "metadata": {
    "vscode": {
     "languageId": "r"
    }
   },
   "outputs": [],
   "source": [
    "# select, mutate, rename ------------\n",
    "metadata.modified <- metadata %>%\n",
    "  select(1,10,11,17) %>%\n",
    "  rename(tissue = characteristics_ch1) %>%\n",
    "  rename(metastasis = characteristics_ch1.1) %>%\n",
    "  mutate(tissue = gsub(\"tissue: \", \"\", tissue)) %>%\n",
    "  mutate(metastasis = gsub(\"metastasis: \", \"\", metastasis))"
   ]
  },
  {
   "cell_type": "code",
   "execution_count": 14,
   "metadata": {
    "vscode": {
     "languageId": "r"
    }
   },
   "outputs": [
    {
     "data": {
      "text/html": [
       "<table class=\"dataframe\">\n",
       "<caption>A data.frame: 6 × 4</caption>\n",
       "<thead>\n",
       "\t<tr><th></th><th scope=col>title</th><th scope=col>tissue</th><th scope=col>metastasis</th><th scope=col>description</th></tr>\n",
       "\t<tr><th></th><th scope=col>&lt;chr&gt;</th><th scope=col>&lt;chr&gt;</th><th scope=col>&lt;chr&gt;</th><th scope=col>&lt;chr&gt;</th></tr>\n",
       "</thead>\n",
       "<tbody>\n",
       "\t<tr><th scope=row>GSM5574685</th><td>tumor rep1</td><td>breast tumor</td><td>yes</td><td>CA.102548 </td></tr>\n",
       "\t<tr><th scope=row>GSM5574686</th><td>tumor rep2</td><td>breast tumor</td><td>yes</td><td>CA.104338 </td></tr>\n",
       "\t<tr><th scope=row>GSM5574687</th><td>tumor rep3</td><td>breast tumor</td><td>yes</td><td>CA.105094 </td></tr>\n",
       "\t<tr><th scope=row>GSM5574688</th><td>tumor rep4</td><td>breast tumor</td><td>no </td><td>CA.109745 </td></tr>\n",
       "\t<tr><th scope=row>GSM5574689</th><td>tumor rep5</td><td>breast tumor</td><td>no </td><td>CA.1906415</td></tr>\n",
       "\t<tr><th scope=row>GSM5574690</th><td>tumor rep6</td><td>breast tumor</td><td>yes</td><td>CA.1912627</td></tr>\n",
       "</tbody>\n",
       "</table>\n"
      ],
      "text/latex": [
       "A data.frame: 6 × 4\n",
       "\\begin{tabular}{r|llll}\n",
       "  & title & tissue & metastasis & description\\\\\n",
       "  & <chr> & <chr> & <chr> & <chr>\\\\\n",
       "\\hline\n",
       "\tGSM5574685 & tumor rep1 & breast tumor & yes & CA.102548 \\\\\n",
       "\tGSM5574686 & tumor rep2 & breast tumor & yes & CA.104338 \\\\\n",
       "\tGSM5574687 & tumor rep3 & breast tumor & yes & CA.105094 \\\\\n",
       "\tGSM5574688 & tumor rep4 & breast tumor & no  & CA.109745 \\\\\n",
       "\tGSM5574689 & tumor rep5 & breast tumor & no  & CA.1906415\\\\\n",
       "\tGSM5574690 & tumor rep6 & breast tumor & yes & CA.1912627\\\\\n",
       "\\end{tabular}\n"
      ],
      "text/markdown": [
       "\n",
       "A data.frame: 6 × 4\n",
       "\n",
       "| <!--/--> | title &lt;chr&gt; | tissue &lt;chr&gt; | metastasis &lt;chr&gt; | description &lt;chr&gt; |\n",
       "|---|---|---|---|---|\n",
       "| GSM5574685 | tumor rep1 | breast tumor | yes | CA.102548  |\n",
       "| GSM5574686 | tumor rep2 | breast tumor | yes | CA.104338  |\n",
       "| GSM5574687 | tumor rep3 | breast tumor | yes | CA.105094  |\n",
       "| GSM5574688 | tumor rep4 | breast tumor | no  | CA.109745  |\n",
       "| GSM5574689 | tumor rep5 | breast tumor | no  | CA.1906415 |\n",
       "| GSM5574690 | tumor rep6 | breast tumor | yes | CA.1912627 |\n",
       "\n"
      ],
      "text/plain": [
       "           title      tissue       metastasis description\n",
       "GSM5574685 tumor rep1 breast tumor yes        CA.102548  \n",
       "GSM5574686 tumor rep2 breast tumor yes        CA.104338  \n",
       "GSM5574687 tumor rep3 breast tumor yes        CA.105094  \n",
       "GSM5574688 tumor rep4 breast tumor no         CA.109745  \n",
       "GSM5574689 tumor rep5 breast tumor no         CA.1906415 \n",
       "GSM5574690 tumor rep6 breast tumor yes        CA.1912627 "
      ]
     },
     "metadata": {},
     "output_type": "display_data"
    }
   ],
   "source": [
    "head(metadata.modified)"
   ]
  },
  {
   "cell_type": "code",
   "execution_count": 15,
   "metadata": {
    "vscode": {
     "languageId": "r"
    }
   },
   "outputs": [
    {
     "data": {
      "text/html": [
       "<table class=\"dataframe\">\n",
       "<caption>A data.frame: 6 × 61</caption>\n",
       "<thead>\n",
       "\t<tr><th></th><th scope=col>X</th><th scope=col>CA.102548</th><th scope=col>CA.104338</th><th scope=col>CA.105094</th><th scope=col>CA.109745</th><th scope=col>CA.1906415</th><th scope=col>CA.1912627</th><th scope=col>CA.1924346</th><th scope=col>CA.1926760</th><th scope=col>CA.1927842</th><th scope=col>⋯</th><th scope=col>CAP.2040686</th><th scope=col>CAP.2046297</th><th scope=col>CAP.2046641</th><th scope=col>CAP.348981</th><th scope=col>CAP.354300</th><th scope=col>CAP.359448</th><th scope=col>CAP.94377</th><th scope=col>CAP.98389</th><th scope=col>CAP.98475</th><th scope=col>CAP.99145</th></tr>\n",
       "\t<tr><th></th><th scope=col>&lt;chr&gt;</th><th scope=col>&lt;dbl&gt;</th><th scope=col>&lt;dbl&gt;</th><th scope=col>&lt;dbl&gt;</th><th scope=col>&lt;dbl&gt;</th><th scope=col>&lt;dbl&gt;</th><th scope=col>&lt;dbl&gt;</th><th scope=col>&lt;dbl&gt;</th><th scope=col>&lt;dbl&gt;</th><th scope=col>&lt;dbl&gt;</th><th scope=col>⋯</th><th scope=col>&lt;dbl&gt;</th><th scope=col>&lt;dbl&gt;</th><th scope=col>&lt;dbl&gt;</th><th scope=col>&lt;dbl&gt;</th><th scope=col>&lt;dbl&gt;</th><th scope=col>&lt;dbl&gt;</th><th scope=col>&lt;dbl&gt;</th><th scope=col>&lt;dbl&gt;</th><th scope=col>&lt;dbl&gt;</th><th scope=col>&lt;dbl&gt;</th></tr>\n",
       "</thead>\n",
       "<tbody>\n",
       "\t<tr><th scope=row>1</th><td>TSPAN6  </td><td>0.93</td><td>1.97</td><td>0.00</td><td>5.45</td><td> 4.52</td><td> 4.75</td><td> 3.96</td><td> 3.58</td><td>6.41</td><td>⋯</td><td>6.66</td><td>8.35</td><td> 8.94</td><td> 6.33</td><td>5.94</td><td> 6.35</td><td> 3.74</td><td>4.84</td><td>10.46</td><td> 4.54</td></tr>\n",
       "\t<tr><th scope=row>2</th><td>TNMD    </td><td>0.00</td><td>0.00</td><td>0.00</td><td>0.00</td><td> 0.00</td><td> 0.00</td><td> 0.00</td><td> 0.23</td><td>0.39</td><td>⋯</td><td>0.12</td><td>0.17</td><td> 1.08</td><td> 0.29</td><td>0.00</td><td> 0.07</td><td> 9.19</td><td>1.18</td><td> 0.09</td><td> 0.39</td></tr>\n",
       "\t<tr><th scope=row>3</th><td>DPM1    </td><td>0.00</td><td>0.43</td><td>0.00</td><td>3.43</td><td> 8.45</td><td> 8.53</td><td> 7.80</td><td> 7.62</td><td>6.40</td><td>⋯</td><td>4.93</td><td>7.47</td><td> 5.72</td><td> 4.96</td><td>9.28</td><td> 9.15</td><td> 4.77</td><td>3.75</td><td> 7.31</td><td> 2.77</td></tr>\n",
       "\t<tr><th scope=row>4</th><td>SCYL3   </td><td>5.78</td><td>5.17</td><td>8.76</td><td>4.58</td><td> 7.20</td><td> 6.03</td><td> 9.05</td><td> 5.37</td><td>5.92</td><td>⋯</td><td>8.02</td><td>6.00</td><td> 5.28</td><td> 4.98</td><td>4.45</td><td> 7.00</td><td> 4.14</td><td>5.51</td><td> 7.45</td><td> 2.33</td></tr>\n",
       "\t<tr><th scope=row>5</th><td>C1orf112</td><td>2.83</td><td>6.26</td><td>3.37</td><td>6.24</td><td> 5.16</td><td>13.69</td><td> 6.69</td><td> 5.28</td><td>7.65</td><td>⋯</td><td>7.91</td><td>4.61</td><td> 8.35</td><td> 9.84</td><td>7.68</td><td> 5.62</td><td> 2.81</td><td>7.08</td><td> 7.28</td><td> 5.39</td></tr>\n",
       "\t<tr><th scope=row>6</th><td>FGR     </td><td>4.80</td><td>1.83</td><td>0.00</td><td>4.23</td><td>15.87</td><td> 8.56</td><td>13.28</td><td>12.27</td><td>5.58</td><td>⋯</td><td>6.99</td><td>6.16</td><td>13.27</td><td>19.33</td><td>2.89</td><td>40.13</td><td>10.53</td><td>9.00</td><td> 4.45</td><td>11.42</td></tr>\n",
       "</tbody>\n",
       "</table>\n"
      ],
      "text/latex": [
       "A data.frame: 6 × 61\n",
       "\\begin{tabular}{r|lllllllllllllllllllll}\n",
       "  & X & CA.102548 & CA.104338 & CA.105094 & CA.109745 & CA.1906415 & CA.1912627 & CA.1924346 & CA.1926760 & CA.1927842 & ⋯ & CAP.2040686 & CAP.2046297 & CAP.2046641 & CAP.348981 & CAP.354300 & CAP.359448 & CAP.94377 & CAP.98389 & CAP.98475 & CAP.99145\\\\\n",
       "  & <chr> & <dbl> & <dbl> & <dbl> & <dbl> & <dbl> & <dbl> & <dbl> & <dbl> & <dbl> & ⋯ & <dbl> & <dbl> & <dbl> & <dbl> & <dbl> & <dbl> & <dbl> & <dbl> & <dbl> & <dbl>\\\\\n",
       "\\hline\n",
       "\t1 & TSPAN6   & 0.93 & 1.97 & 0.00 & 5.45 &  4.52 &  4.75 &  3.96 &  3.58 & 6.41 & ⋯ & 6.66 & 8.35 &  8.94 &  6.33 & 5.94 &  6.35 &  3.74 & 4.84 & 10.46 &  4.54\\\\\n",
       "\t2 & TNMD     & 0.00 & 0.00 & 0.00 & 0.00 &  0.00 &  0.00 &  0.00 &  0.23 & 0.39 & ⋯ & 0.12 & 0.17 &  1.08 &  0.29 & 0.00 &  0.07 &  9.19 & 1.18 &  0.09 &  0.39\\\\\n",
       "\t3 & DPM1     & 0.00 & 0.43 & 0.00 & 3.43 &  8.45 &  8.53 &  7.80 &  7.62 & 6.40 & ⋯ & 4.93 & 7.47 &  5.72 &  4.96 & 9.28 &  9.15 &  4.77 & 3.75 &  7.31 &  2.77\\\\\n",
       "\t4 & SCYL3    & 5.78 & 5.17 & 8.76 & 4.58 &  7.20 &  6.03 &  9.05 &  5.37 & 5.92 & ⋯ & 8.02 & 6.00 &  5.28 &  4.98 & 4.45 &  7.00 &  4.14 & 5.51 &  7.45 &  2.33\\\\\n",
       "\t5 & C1orf112 & 2.83 & 6.26 & 3.37 & 6.24 &  5.16 & 13.69 &  6.69 &  5.28 & 7.65 & ⋯ & 7.91 & 4.61 &  8.35 &  9.84 & 7.68 &  5.62 &  2.81 & 7.08 &  7.28 &  5.39\\\\\n",
       "\t6 & FGR      & 4.80 & 1.83 & 0.00 & 4.23 & 15.87 &  8.56 & 13.28 & 12.27 & 5.58 & ⋯ & 6.99 & 6.16 & 13.27 & 19.33 & 2.89 & 40.13 & 10.53 & 9.00 &  4.45 & 11.42\\\\\n",
       "\\end{tabular}\n"
      ],
      "text/markdown": [
       "\n",
       "A data.frame: 6 × 61\n",
       "\n",
       "| <!--/--> | X &lt;chr&gt; | CA.102548 &lt;dbl&gt; | CA.104338 &lt;dbl&gt; | CA.105094 &lt;dbl&gt; | CA.109745 &lt;dbl&gt; | CA.1906415 &lt;dbl&gt; | CA.1912627 &lt;dbl&gt; | CA.1924346 &lt;dbl&gt; | CA.1926760 &lt;dbl&gt; | CA.1927842 &lt;dbl&gt; | ⋯ ⋯ | CAP.2040686 &lt;dbl&gt; | CAP.2046297 &lt;dbl&gt; | CAP.2046641 &lt;dbl&gt; | CAP.348981 &lt;dbl&gt; | CAP.354300 &lt;dbl&gt; | CAP.359448 &lt;dbl&gt; | CAP.94377 &lt;dbl&gt; | CAP.98389 &lt;dbl&gt; | CAP.98475 &lt;dbl&gt; | CAP.99145 &lt;dbl&gt; |\n",
       "|---|---|---|---|---|---|---|---|---|---|---|---|---|---|---|---|---|---|---|---|---|---|\n",
       "| 1 | TSPAN6   | 0.93 | 1.97 | 0.00 | 5.45 |  4.52 |  4.75 |  3.96 |  3.58 | 6.41 | ⋯ | 6.66 | 8.35 |  8.94 |  6.33 | 5.94 |  6.35 |  3.74 | 4.84 | 10.46 |  4.54 |\n",
       "| 2 | TNMD     | 0.00 | 0.00 | 0.00 | 0.00 |  0.00 |  0.00 |  0.00 |  0.23 | 0.39 | ⋯ | 0.12 | 0.17 |  1.08 |  0.29 | 0.00 |  0.07 |  9.19 | 1.18 |  0.09 |  0.39 |\n",
       "| 3 | DPM1     | 0.00 | 0.43 | 0.00 | 3.43 |  8.45 |  8.53 |  7.80 |  7.62 | 6.40 | ⋯ | 4.93 | 7.47 |  5.72 |  4.96 | 9.28 |  9.15 |  4.77 | 3.75 |  7.31 |  2.77 |\n",
       "| 4 | SCYL3    | 5.78 | 5.17 | 8.76 | 4.58 |  7.20 |  6.03 |  9.05 |  5.37 | 5.92 | ⋯ | 8.02 | 6.00 |  5.28 |  4.98 | 4.45 |  7.00 |  4.14 | 5.51 |  7.45 |  2.33 |\n",
       "| 5 | C1orf112 | 2.83 | 6.26 | 3.37 | 6.24 |  5.16 | 13.69 |  6.69 |  5.28 | 7.65 | ⋯ | 7.91 | 4.61 |  8.35 |  9.84 | 7.68 |  5.62 |  2.81 | 7.08 |  7.28 |  5.39 |\n",
       "| 6 | FGR      | 4.80 | 1.83 | 0.00 | 4.23 | 15.87 |  8.56 | 13.28 | 12.27 | 5.58 | ⋯ | 6.99 | 6.16 | 13.27 | 19.33 | 2.89 | 40.13 | 10.53 | 9.00 |  4.45 | 11.42 |\n",
       "\n"
      ],
      "text/plain": [
       "  X        CA.102548 CA.104338 CA.105094 CA.109745 CA.1906415 CA.1912627\n",
       "1 TSPAN6   0.93      1.97      0.00      5.45       4.52       4.75     \n",
       "2 TNMD     0.00      0.00      0.00      0.00       0.00       0.00     \n",
       "3 DPM1     0.00      0.43      0.00      3.43       8.45       8.53     \n",
       "4 SCYL3    5.78      5.17      8.76      4.58       7.20       6.03     \n",
       "5 C1orf112 2.83      6.26      3.37      6.24       5.16      13.69     \n",
       "6 FGR      4.80      1.83      0.00      4.23      15.87       8.56     \n",
       "  CA.1924346 CA.1926760 CA.1927842 ⋯ CAP.2040686 CAP.2046297 CAP.2046641\n",
       "1  3.96       3.58      6.41       ⋯ 6.66        8.35         8.94      \n",
       "2  0.00       0.23      0.39       ⋯ 0.12        0.17         1.08      \n",
       "3  7.80       7.62      6.40       ⋯ 4.93        7.47         5.72      \n",
       "4  9.05       5.37      5.92       ⋯ 8.02        6.00         5.28      \n",
       "5  6.69       5.28      7.65       ⋯ 7.91        4.61         8.35      \n",
       "6 13.28      12.27      5.58       ⋯ 6.99        6.16        13.27      \n",
       "  CAP.348981 CAP.354300 CAP.359448 CAP.94377 CAP.98389 CAP.98475 CAP.99145\n",
       "1  6.33      5.94        6.35       3.74     4.84      10.46      4.54    \n",
       "2  0.29      0.00        0.07       9.19     1.18       0.09      0.39    \n",
       "3  4.96      9.28        9.15       4.77     3.75       7.31      2.77    \n",
       "4  4.98      4.45        7.00       4.14     5.51       7.45      2.33    \n",
       "5  9.84      7.68        5.62       2.81     7.08       7.28      5.39    \n",
       "6 19.33      2.89       40.13      10.53     9.00       4.45     11.42    "
      ]
     },
     "metadata": {},
     "output_type": "display_data"
    }
   ],
   "source": [
    "# looking at gene expression data ---------\n",
    "head(dat)\n"
   ]
  },
  {
   "cell_type": "code",
   "execution_count": 16,
   "metadata": {
    "vscode": {
     "languageId": "r"
    }
   },
   "outputs": [],
   "source": [
    "# reshaping data - from wide to long--------\n",
    "dat.long <- dat %>%\n",
    "  rename(gene = X) %>%\n",
    "  gather(key = 'samples', value = 'FPKM', -gene)"
   ]
  },
  {
   "cell_type": "code",
   "execution_count": 17,
   "metadata": {
    "vscode": {
     "languageId": "r"
    }
   },
   "outputs": [
    {
     "data": {
      "text/html": [
       "<table class=\"dataframe\">\n",
       "<caption>A data.frame: 6 × 3</caption>\n",
       "<thead>\n",
       "\t<tr><th></th><th scope=col>gene</th><th scope=col>samples</th><th scope=col>FPKM</th></tr>\n",
       "\t<tr><th></th><th scope=col>&lt;chr&gt;</th><th scope=col>&lt;chr&gt;</th><th scope=col>&lt;dbl&gt;</th></tr>\n",
       "</thead>\n",
       "<tbody>\n",
       "\t<tr><th scope=row>1</th><td>TSPAN6  </td><td>CA.102548</td><td>0.93</td></tr>\n",
       "\t<tr><th scope=row>2</th><td>TNMD    </td><td>CA.102548</td><td>0.00</td></tr>\n",
       "\t<tr><th scope=row>3</th><td>DPM1    </td><td>CA.102548</td><td>0.00</td></tr>\n",
       "\t<tr><th scope=row>4</th><td>SCYL3   </td><td>CA.102548</td><td>5.78</td></tr>\n",
       "\t<tr><th scope=row>5</th><td>C1orf112</td><td>CA.102548</td><td>2.83</td></tr>\n",
       "\t<tr><th scope=row>6</th><td>FGR     </td><td>CA.102548</td><td>4.80</td></tr>\n",
       "</tbody>\n",
       "</table>\n"
      ],
      "text/latex": [
       "A data.frame: 6 × 3\n",
       "\\begin{tabular}{r|lll}\n",
       "  & gene & samples & FPKM\\\\\n",
       "  & <chr> & <chr> & <dbl>\\\\\n",
       "\\hline\n",
       "\t1 & TSPAN6   & CA.102548 & 0.93\\\\\n",
       "\t2 & TNMD     & CA.102548 & 0.00\\\\\n",
       "\t3 & DPM1     & CA.102548 & 0.00\\\\\n",
       "\t4 & SCYL3    & CA.102548 & 5.78\\\\\n",
       "\t5 & C1orf112 & CA.102548 & 2.83\\\\\n",
       "\t6 & FGR      & CA.102548 & 4.80\\\\\n",
       "\\end{tabular}\n"
      ],
      "text/markdown": [
       "\n",
       "A data.frame: 6 × 3\n",
       "\n",
       "| <!--/--> | gene &lt;chr&gt; | samples &lt;chr&gt; | FPKM &lt;dbl&gt; |\n",
       "|---|---|---|---|\n",
       "| 1 | TSPAN6   | CA.102548 | 0.93 |\n",
       "| 2 | TNMD     | CA.102548 | 0.00 |\n",
       "| 3 | DPM1     | CA.102548 | 0.00 |\n",
       "| 4 | SCYL3    | CA.102548 | 5.78 |\n",
       "| 5 | C1orf112 | CA.102548 | 2.83 |\n",
       "| 6 | FGR      | CA.102548 | 4.80 |\n",
       "\n"
      ],
      "text/plain": [
       "  gene     samples   FPKM\n",
       "1 TSPAN6   CA.102548 0.93\n",
       "2 TNMD     CA.102548 0.00\n",
       "3 DPM1     CA.102548 0.00\n",
       "4 SCYL3    CA.102548 5.78\n",
       "5 C1orf112 CA.102548 2.83\n",
       "6 FGR      CA.102548 4.80"
      ]
     },
     "metadata": {},
     "output_type": "display_data"
    }
   ],
   "source": [
    "head(dat.long)"
   ]
  },
  {
   "cell_type": "code",
   "execution_count": 18,
   "metadata": {
    "vscode": {
     "languageId": "r"
    }
   },
   "outputs": [
    {
     "data": {
      "text/html": [
       "<style>\n",
       ".list-inline {list-style: none; margin:0; padding: 0}\n",
       ".list-inline>li {display: inline-block}\n",
       ".list-inline>li:not(:last-child)::after {content: \"\\00b7\"; padding: 0 .5ex}\n",
       "</style>\n",
       "<ol class=list-inline><li>1214760</li><li>3</li></ol>\n"
      ],
      "text/latex": [
       "\\begin{enumerate*}\n",
       "\\item 1214760\n",
       "\\item 3\n",
       "\\end{enumerate*}\n"
      ],
      "text/markdown": [
       "1. 1214760\n",
       "2. 3\n",
       "\n",
       "\n"
      ],
      "text/plain": [
       "[1] 1214760       3"
      ]
     },
     "metadata": {},
     "output_type": "display_data"
    }
   ],
   "source": [
    "dim(dat.long)"
   ]
  },
  {
   "cell_type": "code",
   "execution_count": 19,
   "metadata": {
    "vscode": {
     "languageId": "r"
    }
   },
   "outputs": [
    {
     "data": {
      "text/html": [
       "<style>\n",
       ".list-inline {list-style: none; margin:0; padding: 0}\n",
       ".list-inline>li {display: inline-block}\n",
       ".list-inline>li:not(:last-child)::after {content: \"\\00b7\"; padding: 0 .5ex}\n",
       "</style>\n",
       "<ol class=list-inline><li>20246</li><li>61</li></ol>\n"
      ],
      "text/latex": [
       "\\begin{enumerate*}\n",
       "\\item 20246\n",
       "\\item 61\n",
       "\\end{enumerate*}\n"
      ],
      "text/markdown": [
       "1. 20246\n",
       "2. 61\n",
       "\n",
       "\n"
      ],
      "text/plain": [
       "[1] 20246    61"
      ]
     },
     "metadata": {},
     "output_type": "display_data"
    }
   ],
   "source": [
    "dim(dat)"
   ]
  },
  {
   "attachments": {},
   "cell_type": "markdown",
   "metadata": {},
   "source": [
    "Now we have restructured that data from wide to long, we can see 20246 entries of each samples (60 samples) are stacked vertically to form 1214760 rows (20246 * 6 )"
   ]
  },
  {
   "cell_type": "code",
   "execution_count": 20,
   "metadata": {
    "vscode": {
     "languageId": "r"
    }
   },
   "outputs": [],
   "source": [
    "# join dataframes = dat.long + metadata.modified\n",
    "\n",
    "dat.long <- dat.long %>%\n",
    "  left_join(., metadata.modified, by = c(\"samples\" = \"description\")) "
   ]
  },
  {
   "cell_type": "code",
   "execution_count": 21,
   "metadata": {
    "vscode": {
     "languageId": "r"
    }
   },
   "outputs": [
    {
     "data": {
      "text/html": [
       "<table class=\"dataframe\">\n",
       "<caption>A data.frame: 6 × 6</caption>\n",
       "<thead>\n",
       "\t<tr><th></th><th scope=col>gene</th><th scope=col>samples</th><th scope=col>FPKM</th><th scope=col>title</th><th scope=col>tissue</th><th scope=col>metastasis</th></tr>\n",
       "\t<tr><th></th><th scope=col>&lt;chr&gt;</th><th scope=col>&lt;chr&gt;</th><th scope=col>&lt;dbl&gt;</th><th scope=col>&lt;chr&gt;</th><th scope=col>&lt;chr&gt;</th><th scope=col>&lt;chr&gt;</th></tr>\n",
       "</thead>\n",
       "<tbody>\n",
       "\t<tr><th scope=row>1</th><td>TSPAN6  </td><td>CA.102548</td><td>0.93</td><td>tumor rep1</td><td>breast tumor</td><td>yes</td></tr>\n",
       "\t<tr><th scope=row>2</th><td>TNMD    </td><td>CA.102548</td><td>0.00</td><td>tumor rep1</td><td>breast tumor</td><td>yes</td></tr>\n",
       "\t<tr><th scope=row>3</th><td>DPM1    </td><td>CA.102548</td><td>0.00</td><td>tumor rep1</td><td>breast tumor</td><td>yes</td></tr>\n",
       "\t<tr><th scope=row>4</th><td>SCYL3   </td><td>CA.102548</td><td>5.78</td><td>tumor rep1</td><td>breast tumor</td><td>yes</td></tr>\n",
       "\t<tr><th scope=row>5</th><td>C1orf112</td><td>CA.102548</td><td>2.83</td><td>tumor rep1</td><td>breast tumor</td><td>yes</td></tr>\n",
       "\t<tr><th scope=row>6</th><td>FGR     </td><td>CA.102548</td><td>4.80</td><td>tumor rep1</td><td>breast tumor</td><td>yes</td></tr>\n",
       "</tbody>\n",
       "</table>\n"
      ],
      "text/latex": [
       "A data.frame: 6 × 6\n",
       "\\begin{tabular}{r|llllll}\n",
       "  & gene & samples & FPKM & title & tissue & metastasis\\\\\n",
       "  & <chr> & <chr> & <dbl> & <chr> & <chr> & <chr>\\\\\n",
       "\\hline\n",
       "\t1 & TSPAN6   & CA.102548 & 0.93 & tumor rep1 & breast tumor & yes\\\\\n",
       "\t2 & TNMD     & CA.102548 & 0.00 & tumor rep1 & breast tumor & yes\\\\\n",
       "\t3 & DPM1     & CA.102548 & 0.00 & tumor rep1 & breast tumor & yes\\\\\n",
       "\t4 & SCYL3    & CA.102548 & 5.78 & tumor rep1 & breast tumor & yes\\\\\n",
       "\t5 & C1orf112 & CA.102548 & 2.83 & tumor rep1 & breast tumor & yes\\\\\n",
       "\t6 & FGR      & CA.102548 & 4.80 & tumor rep1 & breast tumor & yes\\\\\n",
       "\\end{tabular}\n"
      ],
      "text/markdown": [
       "\n",
       "A data.frame: 6 × 6\n",
       "\n",
       "| <!--/--> | gene &lt;chr&gt; | samples &lt;chr&gt; | FPKM &lt;dbl&gt; | title &lt;chr&gt; | tissue &lt;chr&gt; | metastasis &lt;chr&gt; |\n",
       "|---|---|---|---|---|---|---|\n",
       "| 1 | TSPAN6   | CA.102548 | 0.93 | tumor rep1 | breast tumor | yes |\n",
       "| 2 | TNMD     | CA.102548 | 0.00 | tumor rep1 | breast tumor | yes |\n",
       "| 3 | DPM1     | CA.102548 | 0.00 | tumor rep1 | breast tumor | yes |\n",
       "| 4 | SCYL3    | CA.102548 | 5.78 | tumor rep1 | breast tumor | yes |\n",
       "| 5 | C1orf112 | CA.102548 | 2.83 | tumor rep1 | breast tumor | yes |\n",
       "| 6 | FGR      | CA.102548 | 4.80 | tumor rep1 | breast tumor | yes |\n",
       "\n"
      ],
      "text/plain": [
       "  gene     samples   FPKM title      tissue       metastasis\n",
       "1 TSPAN6   CA.102548 0.93 tumor rep1 breast tumor yes       \n",
       "2 TNMD     CA.102548 0.00 tumor rep1 breast tumor yes       \n",
       "3 DPM1     CA.102548 0.00 tumor rep1 breast tumor yes       \n",
       "4 SCYL3    CA.102548 5.78 tumor rep1 breast tumor yes       \n",
       "5 C1orf112 CA.102548 2.83 tumor rep1 breast tumor yes       \n",
       "6 FGR      CA.102548 4.80 tumor rep1 breast tumor yes       "
      ]
     },
     "metadata": {},
     "output_type": "display_data"
    }
   ],
   "source": [
    "head(dat.long)"
   ]
  },
  {
   "cell_type": "code",
   "execution_count": null,
   "metadata": {
    "vscode": {
     "languageId": "r"
    }
   },
   "outputs": [],
   "source": []
  },
  {
   "cell_type": "code",
   "execution_count": 22,
   "metadata": {
    "vscode": {
     "languageId": "r"
    }
   },
   "outputs": [
    {
     "name": "stderr",
     "output_type": "stream",
     "text": [
      "\u001b[1m\u001b[22m`summarise()` has grouped output by 'gene'. You can override using the\n",
      "`.groups` argument.\n"
     ]
    },
    {
     "data": {
      "text/html": [
       "<table class=\"dataframe\">\n",
       "<caption>A grouped_df: 4 × 4</caption>\n",
       "<thead>\n",
       "\t<tr><th scope=col>gene</th><th scope=col>tissue</th><th scope=col>mean_FPKM</th><th scope=col>median_FPKM</th></tr>\n",
       "\t<tr><th scope=col>&lt;chr&gt;</th><th scope=col>&lt;chr&gt;</th><th scope=col>&lt;dbl&gt;</th><th scope=col>&lt;dbl&gt;</th></tr>\n",
       "</thead>\n",
       "<tbody>\n",
       "\t<tr><td>BRCA1</td><td>breast tumor        </td><td>10.042333</td><td>6.965</td></tr>\n",
       "\t<tr><td>BRCA1</td><td>normal breast tissue</td><td> 7.698667</td><td>6.450</td></tr>\n",
       "\t<tr><td>BRCA2</td><td>normal breast tissue</td><td> 3.047333</td><td>1.250</td></tr>\n",
       "\t<tr><td>BRCA2</td><td>breast tumor        </td><td> 2.044000</td><td>1.600</td></tr>\n",
       "</tbody>\n",
       "</table>\n"
      ],
      "text/latex": [
       "A grouped\\_df: 4 × 4\n",
       "\\begin{tabular}{llll}\n",
       " gene & tissue & mean\\_FPKM & median\\_FPKM\\\\\n",
       " <chr> & <chr> & <dbl> & <dbl>\\\\\n",
       "\\hline\n",
       "\t BRCA1 & breast tumor         & 10.042333 & 6.965\\\\\n",
       "\t BRCA1 & normal breast tissue &  7.698667 & 6.450\\\\\n",
       "\t BRCA2 & normal breast tissue &  3.047333 & 1.250\\\\\n",
       "\t BRCA2 & breast tumor         &  2.044000 & 1.600\\\\\n",
       "\\end{tabular}\n"
      ],
      "text/markdown": [
       "\n",
       "A grouped_df: 4 × 4\n",
       "\n",
       "| gene &lt;chr&gt; | tissue &lt;chr&gt; | mean_FPKM &lt;dbl&gt; | median_FPKM &lt;dbl&gt; |\n",
       "|---|---|---|---|\n",
       "| BRCA1 | breast tumor         | 10.042333 | 6.965 |\n",
       "| BRCA1 | normal breast tissue |  7.698667 | 6.450 |\n",
       "| BRCA2 | normal breast tissue |  3.047333 | 1.250 |\n",
       "| BRCA2 | breast tumor         |  2.044000 | 1.600 |\n",
       "\n"
      ],
      "text/plain": [
       "  gene  tissue               mean_FPKM median_FPKM\n",
       "1 BRCA1 breast tumor         10.042333 6.965      \n",
       "2 BRCA1 normal breast tissue  7.698667 6.450      \n",
       "3 BRCA2 normal breast tissue  3.047333 1.250      \n",
       "4 BRCA2 breast tumor          2.044000 1.600      "
      ]
     },
     "metadata": {},
     "output_type": "display_data"
    }
   ],
   "source": [
    "# explore data ------\n",
    "# filter, group_by, summarize and arrange \n",
    "dat.long %>%\n",
    "  filter(gene == 'BRCA1' | gene == 'BRCA2') %>%\n",
    "  group_by(gene, tissue) %>%\n",
    "  summarize(mean_FPKM = mean(FPKM),\n",
    "            median_FPKM = median(FPKM)) %>%\n",
    "  arrange(-mean_FPKM)"
   ]
  },
  {
   "cell_type": "code",
   "execution_count": 23,
   "metadata": {
    "vscode": {
     "languageId": "r"
    }
   },
   "outputs": [
    {
     "data": {
      "text/html": [
       "'list'"
      ],
      "text/latex": [
       "'list'"
      ],
      "text/markdown": [
       "'list'"
      ],
      "text/plain": [
       "[1] \"list\""
      ]
     },
     "metadata": {},
     "output_type": "display_data"
    }
   ],
   "source": [
    "typeof(dat.long)"
   ]
  },
  {
   "cell_type": "code",
   "execution_count": 24,
   "metadata": {
    "vscode": {
     "languageId": "r"
    }
   },
   "outputs": [
    {
     "data": {
      "text/html": [
       "<style>\n",
       ".list-inline {list-style: none; margin:0; padding: 0}\n",
       ".list-inline>li {display: inline-block}\n",
       ".list-inline>li:not(:last-child)::after {content: \"\\00b7\"; padding: 0 .5ex}\n",
       "</style>\n",
       "<ol class=list-inline><li>1214760</li><li>6</li></ol>\n"
      ],
      "text/latex": [
       "\\begin{enumerate*}\n",
       "\\item 1214760\n",
       "\\item 6\n",
       "\\end{enumerate*}\n"
      ],
      "text/markdown": [
       "1. 1214760\n",
       "2. 6\n",
       "\n",
       "\n"
      ],
      "text/plain": [
       "[1] 1214760       6"
      ]
     },
     "metadata": {},
     "output_type": "display_data"
    }
   ],
   "source": [
    "dim(dat.long)"
   ]
  },
  {
   "cell_type": "code",
   "execution_count": 25,
   "metadata": {
    "vscode": {
     "languageId": "r"
    }
   },
   "outputs": [
    {
     "data": {
      "text/html": [
       "20246"
      ],
      "text/latex": [
       "20246"
      ],
      "text/markdown": [
       "20246"
      ],
      "text/plain": [
       "[1] 20246"
      ]
     },
     "metadata": {},
     "output_type": "display_data"
    }
   ],
   "source": [
    "length((unique(dat.long$gene)))"
   ]
  },
  {
   "cell_type": "code",
   "execution_count": 26,
   "metadata": {
    "vscode": {
     "languageId": "r"
    }
   },
   "outputs": [],
   "source": [
    "library(ggplot2)"
   ]
  },
  {
   "cell_type": "code",
   "execution_count": 48,
   "metadata": {
    "vscode": {
     "languageId": "r"
    }
   },
   "outputs": [
    {
     "data": {
      "image/png": "[encoded data removed]",
      "text/plain": [
       "plot without title"
      ]
     },
     "metadata": {
      "image/png": {
       "height": 420,
       "width": 420
      }
     },
     "output_type": "display_data"
    }
   ],
   "source": [
    "# 1. barplot\n",
    "dat.long %>%\n",
    "  filter(gene == 'BRCA1') %>%\n",
    "  ggplot(., aes(x = samples, y = FPKM, fill = tissue)) +\n",
    "  geom_col()"
   ]
  },
  {
   "cell_type": "code",
   "execution_count": 49,
   "metadata": {
    "vscode": {
     "languageId": "r"
    }
   },
   "outputs": [
    {
     "data": {
      "image/png": "[encoded data removed]",
      "text/plain": [
       "plot without title"
      ]
     },
     "metadata": {
      "image/png": {
       "height": 420,
       "width": 420
      }
     },
     "output_type": "display_data"
    }
   ],
   "source": [
    "# 2. density\n",
    "dat.long %>%\n",
    "  filter(gene == 'BRCA1') %>%\n",
    "  ggplot(., aes(x = FPKM, fill = tissue)) +\n",
    "  geom_density(alpha = 0.3)"
   ]
  },
  {
   "cell_type": "code",
   "execution_count": 50,
   "metadata": {
    "vscode": {
     "languageId": "r"
    }
   },
   "outputs": [
    {
     "data": {
      "image/png": "[encoded data removed]",
      "text/plain": [
       "plot without title"
      ]
     },
     "metadata": {
      "image/png": {
       "height": 420,
       "width": 420
      }
     },
     "output_type": "display_data"
    }
   ],
   "source": [
    "# 3. boxplot \n",
    "dat.long %>%\n",
    "  filter(gene == 'BRCA1') %>%\n",
    "  ggplot(., aes(x = metastasis, y = FPKM)) +\n",
    "  #geom_boxplot()\n",
    "  geom_violin()"
   ]
  },
  {
   "cell_type": "code",
   "execution_count": 51,
   "metadata": {
    "vscode": {
     "languageId": "r"
    }
   },
   "outputs": [
    {
     "name": "stderr",
     "output_type": "stream",
     "text": [
      "\u001b[1m\u001b[22m`geom_smooth()` using formula = 'y ~ x'\n"
     ]
    },
    {
     "data": {
      "image/png": "[encoded data removed]",
      "text/plain": [
       "plot without title"
      ]
     },
     "metadata": {
      "image/png": {
       "height": 420,
       "width": 420
      }
     },
     "output_type": "display_data"
    }
   ],
   "source": [
    "# 4. scatterplot\n",
    "dat.long %>%\n",
    "  filter(gene == 'BRCA1' | gene == 'BRCA2') %>%\n",
    "  spread(key = gene, value = FPKM) %>%\n",
    "  ggplot(., aes(x = BRCA1, y = BRCA2, color = tissue)) +\n",
    "  geom_point() +\n",
    "  geom_smooth(method = 'lm', se = FALSE)"
   ]
  },
  {
   "cell_type": "code",
   "execution_count": 27,
   "metadata": {
    "vscode": {
     "languageId": "r"
    }
   },
   "outputs": [
    {
     "data": {
      "text/html": [
       "<strong>png:</strong> 2"
      ],
      "text/latex": [
       "\\textbf{png:} 2"
      ],
      "text/markdown": [
       "**png:** 2"
      ],
      "text/plain": [
       "png \n",
       "  2 "
      ]
     },
     "metadata": {},
     "output_type": "display_data"
    }
   ],
   "source": [
    "# 5. heatmap\n",
    "genes.of.interest <- c('BRCA1', 'BRCA2', 'TP53', 'ALK', 'MYCN')\n",
    "\n",
    "pdf(\"heatmap_save2.pdf\", width = 10, height = 8)\n",
    "dat.long %>%\n",
    "  filter(gene %in% genes.of.interest) %>%\n",
    "  ggplot(., aes(x = samples, y = gene, fill = FPKM)) +\n",
    "  geom_tile() +\n",
    "  scale_fill_gradient(low = 'white', high = 'red')\n",
    "\n",
    "dev.off()\n",
    "\n",
    "# ggsave(p, filename = 'heatmap_save1.pdf', width = 10, height = 8)"
   ]
  },
  {
   "cell_type": "code",
   "execution_count": null,
   "metadata": {
    "vscode": {
     "languageId": "r"
    }
   },
   "outputs": [],
   "source": []
  }
 ],
 "metadata": {
  "kernelspec": {
   "display_name": "R",
   "language": "R",
   "name": "ir"
  },
  "language_info": {
   "codemirror_mode": "r",
   "file_extension": ".r",
   "mimetype": "text/x-r-source",
   "name": "R",
   "pygments_lexer": "r",
   "version": "4.3.0"
  },
  "orig_nbformat": 4
 },
 "nbformat": 4,
 "nbformat_minor": 2
}
